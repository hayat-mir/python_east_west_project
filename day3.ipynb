{
 "cells": [
  {
   "cell_type": "code",
   "execution_count": 1,
   "id": "3801ee50-edf6-4b6f-ac1f-c35212185ea0",
   "metadata": {},
   "outputs": [
    {
     "name": "stdout",
     "output_type": "stream",
     "text": [
      "[[1, 99], [3, 4]]\n"
     ]
    }
   ],
   "source": [
    "lst = [[1, 2], [3, 4]]\n",
    "lst[0][1] = 99\n",
    "print(lst)\n"
   ]
  },
  {
   "cell_type": "code",
   "execution_count": 12,
   "id": "f9622e6b-3946-4eb8-9d27-23c6e7f0d936",
   "metadata": {},
   "outputs": [
    {
     "name": "stdout",
     "output_type": "stream",
     "text": [
      "(1, 2, [99, 4])\n"
     ]
    }
   ],
   "source": [
    "t = (1, 2, [3, 4])\n",
    "t[2][0] = 99\n",
    "print(t)\n"
   ]
  },
  {
   "cell_type": "code",
   "execution_count": 13,
   "id": "da6814fd-e5ed-45f3-ab1e-882ec6d5c9a0",
   "metadata": {},
   "outputs": [
    {
     "name": "stdout",
     "output_type": "stream",
     "text": [
      "([99, 2], 3, 4)\n"
     ]
    }
   ],
   "source": [
    "t = ([1, 2], 3, 4)\n",
    "a, b, c = t\n",
    "a[0] = 99\n",
    "print(t)\n"
   ]
  },
  {
   "cell_type": "code",
   "execution_count": 14,
   "id": "07aa62cb-a382-43f0-99fd-9ca585db2a49",
   "metadata": {},
   "outputs": [
    {
     "name": "stdout",
     "output_type": "stream",
     "text": [
      "{'a': 1, 'b': 3, 'c': 4}\n"
     ]
    }
   ],
   "source": [
    "d1 = {'a': 1, 'b': 2}\n",
    "d2 = {'b': 3, 'c': 4}\n",
    "d1.update(d2)\n",
    "print(d1)\n"
   ]
  },
  {
   "cell_type": "code",
   "execution_count": 16,
   "id": "e844806c-d9b2-4131-a77a-7e2877fb0d14",
   "metadata": {},
   "outputs": [
    {
     "name": "stdout",
     "output_type": "stream",
     "text": [
      "True\n",
      "False\n",
      "True\n"
     ]
    }
   ],
   "source": [
    "d = {'a': 1, 'b': 2}\n",
    "print('a' in d)\n",
    "print('c' in d)\n",
    "lst01=[\"apple\",\"banana\",\"mango\"]\n",
    "print(\"banana\" in lst01)\n"
   ]
  },
  {
   "cell_type": "code",
   "execution_count": 17,
   "id": "6a99bbd9-6f30-4d03-b900-25309f666d49",
   "metadata": {},
   "outputs": [
    {
     "name": "stdout",
     "output_type": "stream",
     "text": [
      "[1, 3, 5]\n"
     ]
    }
   ],
   "source": [
    "lst = [1, 2, 3, 4, 5]\n",
    "for i in lst:\n",
    "    if i % 2 == 0:\n",
    "        lst.remove(i)\n",
    "print(lst)\n"
   ]
  },
  {
   "cell_type": "code",
   "execution_count": 21,
   "id": "347a3685-f6e1-4c0a-bf4b-ccf301cbf82a",
   "metadata": {},
   "outputs": [
    {
     "name": "stdout",
     "output_type": "stream",
     "text": [
      "[10, 2, [3, 99, 5]]\n"
     ]
    }
   ],
   "source": [
    "t = [1, 2, [3, 4, 5]]\n",
    "t[2][1] = 99\n",
    "t[0] = 10\n",
    "print(t)\n"
   ]
  },
  {
   "cell_type": "code",
   "execution_count": 23,
   "id": "43cc6694-fdd4-413b-a4ac-cf5b8866ba47",
   "metadata": {},
   "outputs": [
    {
     "name": "stdout",
     "output_type": "stream",
     "text": [
      "1 2\n",
      "3 4\n",
      "5 6\n"
     ]
    }
   ],
   "source": [
    "lst = [(1, 2), (3, 4), (5, 6)]\n",
    "for x, y in lst:\n",
    "    if x % 2 == 1:\n",
    "        print(x, y)\n",
    "    else:\n",
    "        break\n"
   ]
  },
  {
   "cell_type": "code",
   "execution_count": 24,
   "id": "82dc940f-f15b-4a2d-99f6-9cc90a1d75d8",
   "metadata": {},
   "outputs": [
    {
     "name": "stdout",
     "output_type": "stream",
     "text": [
      "2 is greater than 1\n",
      "4 is greater than 3\n",
      "6 is greater than 5\n"
     ]
    }
   ],
   "source": [
    "lst = [(1, 2), (4, 3), (5, 6)]\n",
    "for a, b in lst:\n",
    "    if a > b:\n",
    "        print(f\"{a} is greater than {b}\")\n",
    "    else:\n",
    "        print(f\"{b} is greater than {a}\")\n"
   ]
  },
  {
   "cell_type": "code",
   "execution_count": 10,
   "id": "7180fe6b-e661-4a43-adf7-6bf24e8074e1",
   "metadata": {},
   "outputs": [],
   "source": [
    "# def add_to_list(lst, item):\n",
    "#     lst.append(item)\n",
    "\n",
    "# # Calling the function\n",
    "# my_list = [1, 2, 3]\n",
    "# add_to_list(my_list, 4)\n",
    "# print(my_list)  # Output: [1, 2, 3, 4]\n"
   ]
  },
  {
   "cell_type": "code",
   "execution_count": null,
   "id": "a485fad2-3bda-4c82-8268-4712b13f0ec8",
   "metadata": {},
   "outputs": [],
   "source": []
  },
  {
   "cell_type": "code",
   "execution_count": 11,
   "id": "13c47227-a15e-496e-b7e3-13d6a6c82f9c",
   "metadata": {},
   "outputs": [
    {
     "name": "stdin",
     "output_type": "stream",
     "text": [
      "Python is an awesome programming language \n"
     ]
    },
    {
     "name": "stdout",
     "output_type": "stream",
     "text": [
      "Number of words: 0\n"
     ]
    }
   ],
   "source": [
    "# def count_words(sentence):\n",
    "#     words = sentence.split()\n",
    "#     print(f\"Number of words: {len(words)}\")\n",
    "\n",
    "# # Calling the function\n",
    "# count_words(input(\"Python is an awesome programming language\"))\n"
   ]
  },
  {
   "cell_type": "code",
   "execution_count": null,
   "id": "5a50b618-02c2-4fb3-b10e-8c5f0906832e",
   "metadata": {},
   "outputs": [],
   "source": []
  },
  {
   "cell_type": "code",
   "execution_count": null,
   "id": "d9fa5b55-97e3-462d-88b5-be6e0c6eaf0d",
   "metadata": {},
   "outputs": [],
   "source": []
  }
 ],
 "metadata": {
  "kernelspec": {
   "display_name": "Python 3 (ipykernel)",
   "language": "python",
   "name": "python3"
  },
  "language_info": {
   "codemirror_mode": {
    "name": "ipython",
    "version": 3
   },
   "file_extension": ".py",
   "mimetype": "text/x-python",
   "name": "python",
   "nbconvert_exporter": "python",
   "pygments_lexer": "ipython3",
   "version": "3.11.0"
  }
 },
 "nbformat": 4,
 "nbformat_minor": 5
}
