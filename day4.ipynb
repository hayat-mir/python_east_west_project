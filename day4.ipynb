{
 "cells": [
  {
   "cell_type": "markdown",
   "id": "f97d8aaa-7405-4579-a124-8a0d67e6a06e",
   "metadata": {},
   "source": [
    "Write a Python function named sum_of_list that takes a list of numbers as input and returns the sum of all the numbers in the list."
   ]
  },
  {
   "cell_type": "code",
   "execution_count": 1,
   "id": "6f3b2684-4f2c-499d-a4b1-41a51c1b0e50",
   "metadata": {},
   "outputs": [
    {
     "data": {
      "text/plain": [
       "22"
      ]
     },
     "execution_count": 1,
     "metadata": {},
     "output_type": "execute_result"
    }
   ],
   "source": [
    "def sum_of_list(l):\n",
    "    return sum(l)\n",
    "\n",
    "sum_of_list([2,3,4,6,7])"
   ]
  },
  {
   "cell_type": "code",
   "execution_count": null,
   "id": "1f4b6487-80ea-462d-a735-83eaba08d848",
   "metadata": {},
   "outputs": [],
   "source": []
  },
  {
   "cell_type": "code",
   "execution_count": null,
   "id": "bb85bd52-af6c-4b32-b772-017572fb891e",
   "metadata": {},
   "outputs": [],
   "source": []
  },
  {
   "cell_type": "code",
   "execution_count": null,
   "id": "731631a0-a7e8-493f-b75d-ee1954e5f03d",
   "metadata": {},
   "outputs": [],
   "source": []
  },
  {
   "cell_type": "code",
   "execution_count": null,
   "id": "3173bd6b-60ab-4ad4-aa0a-f483296a9974",
   "metadata": {},
   "outputs": [],
   "source": []
  },
  {
   "cell_type": "markdown",
   "id": "c8b3ae06-7459-40f9-a4ca-b3d3d972984f",
   "metadata": {},
   "source": [
    "Write a Python function named check_even_odd that takes a number as an argument and returns whether the number is \"Even\" or \"Odd\"."
   ]
  },
  {
   "cell_type": "code",
   "execution_count": 2,
   "id": "252f4b18-e4fe-4b82-8233-617819d72dd7",
   "metadata": {},
   "outputs": [
    {
     "name": "stdout",
     "output_type": "stream",
     "text": [
      "odd\n"
     ]
    }
   ],
   "source": [
    "def check_even_odd(a):\n",
    "    if a%2==0:\n",
    "        print(\"even\")\n",
    "    else:\n",
    "        print(\"odd\")\n",
    "\n",
    "check_even_odd(3)\n",
    "    "
   ]
  },
  {
   "cell_type": "code",
   "execution_count": null,
   "id": "fb5b1709-c77a-4288-8eed-7dc9093c7061",
   "metadata": {},
   "outputs": [],
   "source": []
  },
  {
   "cell_type": "code",
   "execution_count": null,
   "id": "29684630-2367-46be-8e58-19812ce088ef",
   "metadata": {},
   "outputs": [],
   "source": []
  },
  {
   "cell_type": "code",
   "execution_count": null,
   "id": "faea2669-3fae-48ec-acc9-5229c56adf08",
   "metadata": {},
   "outputs": [],
   "source": []
  },
  {
   "cell_type": "code",
   "execution_count": null,
   "id": "ef454909-2015-4950-af62-8d4c4c5d0fc8",
   "metadata": {},
   "outputs": [],
   "source": []
  },
  {
   "cell_type": "markdown",
   "id": "ee126cab-9744-4370-a3f2-bdb668dfa026",
   "metadata": {},
   "source": [
    "Write a Python function largest_of_three that takes three numbers as arguments and returns the largest of them."
   ]
  },
  {
   "cell_type": "code",
   "execution_count": 3,
   "id": "fbb619cb-6176-4289-b00b-7dac35ee7004",
   "metadata": {},
   "outputs": [
    {
     "name": "stdout",
     "output_type": "stream",
     "text": [
      "7 is greater then 3 and 5\n"
     ]
    }
   ],
   "source": [
    "def largest(a,b,c):\n",
    "    if a>b and a>c:\n",
    "        print(f\"{a} is greater then {b} and {c}\")\n",
    "    elif b>a and b>c:\n",
    "        print(f\"{b} is greater then {a} and {c}\")\n",
    "    else:\n",
    "        print(f\"{c} is greater then {a} and {b}\")\n",
    "largest(7,3,5)"
   ]
  },
  {
   "cell_type": "code",
   "execution_count": null,
   "id": "5c718012-1020-4675-8b8c-6e50e6218755",
   "metadata": {},
   "outputs": [],
   "source": []
  },
  {
   "cell_type": "code",
   "execution_count": null,
   "id": "78503030-acc3-49a1-860e-e3b9f420aa33",
   "metadata": {},
   "outputs": [],
   "source": []
  },
  {
   "cell_type": "code",
   "execution_count": null,
   "id": "0a7f9cfb-6a39-4e17-8c5a-0bcd99b905e4",
   "metadata": {},
   "outputs": [],
   "source": []
  },
  {
   "cell_type": "markdown",
   "id": "461b3b19-2993-4bad-8233-d064939137e7",
   "metadata": {},
   "source": [
    "Write a Python function named reverse_string that takes a string as input and returns the string reversed."
   ]
  },
  {
   "cell_type": "code",
   "execution_count": 3,
   "id": "feb687e5-cb4c-4120-9dcf-68c5ba88bf51",
   "metadata": {},
   "outputs": [
    {
     "data": {
      "text/plain": [
       "'dlrow'"
      ]
     },
     "execution_count": 3,
     "metadata": {},
     "output_type": "execute_result"
    }
   ],
   "source": [
    "def rever(a):\n",
    "    return a[::-1]\n",
    "rever(\"world\")"
   ]
  },
  {
   "cell_type": "markdown",
   "id": "ef9cdc18-c494-43fc-9f65-5c1bf6ce42b1",
   "metadata": {},
   "source": [
    "Write a Python function named is_palindrome that takes a string as input and returns True if the string is a palindrome, and False otherwise. A palindrome is a word, phrase, or sequence that reads the same backward as forward."
   ]
  },
  {
   "cell_type": "code",
   "execution_count": 4,
   "id": "5c6cf37a-31d6-4dc1-b687-e47d808448a4",
   "metadata": {},
   "outputs": [
    {
     "name": "stdout",
     "output_type": "stream",
     "text": [
      "eye is palindrome\n"
     ]
    }
   ],
   "source": [
    "def is_palindrome(a):\n",
    "    if a==a[::-1]:\n",
    "        print(f\"{a} is palindrome\")\n",
    "    else:\n",
    "        print(f\"{a} is not palindrome\")\n",
    "is_palindrome(\"eye\")"
   ]
  },
  {
   "cell_type": "markdown",
   "id": "6f7d1215-9af7-48d6-8d75-7001d2292e08",
   "metadata": {},
   "source": [
    "Write a Python function named is_leap_year that takes a year as input and returns True if it is a leap year and False otherwise. A year is a leap year if it is divisible by 4, but not divisible by 100, unless it is also divisible by 400."
   ]
  },
  {
   "cell_type": "code",
   "execution_count": 21,
   "id": "0bf005ae-4d7f-4fb5-917d-749358083ebd",
   "metadata": {},
   "outputs": [
    {
     "name": "stdout",
     "output_type": "stream",
     "text": [
      "not a leap year\n"
     ]
    }
   ],
   "source": [
    "def is_leap_year(a):\n",
    "    if a % 4==0 and not a %100 ==0:\n",
    "        print(\"leap year\")\n",
    "    else:\n",
    "        print(\"not a leap year\")\n",
    "is_leap_year(2000)"
   ]
  },
  {
   "cell_type": "code",
   "execution_count": 4,
   "id": "5336498b-d158-4df3-a1b0-5e1f0b31e18a",
   "metadata": {},
   "outputs": [],
   "source": [
    "def second_largest(lst):\n",
    "    unique_lst = list(set(lst))  # Remove duplicates\n",
    "    unique_lst.sort()\n",
    "    return unique_lst[-2]\n",
    "\n",
    "# Test cases\n",
    "print(second_largest([10, 20, 30, 40]))  # Output: 30\n",
    "print(second_largest([5, 5, 6, 3, 4]))  # Output: 5\n"
   ]
  },
  {
   "cell_type": "code",
   "execution_count": null,
   "id": "bd8866de-29f7-4f9e-97a1-a801240285f3",
   "metadata": {},
   "outputs": [],
   "source": []
  },
  {
   "cell_type": "code",
   "execution_count": 10,
   "id": "f37c7b2c-858d-4482-9097-e8b5620ac8ee",
   "metadata": {},
   "outputs": [
    {
     "name": "stdout",
     "output_type": "stream",
     "text": [
      "5\n",
      "4\n",
      "3\n",
      "2\n",
      "1\n"
     ]
    }
   ],
   "source": [
    "#recursion\n",
    "def show(a):\n",
    "    if(a==0):\n",
    "        return\n",
    "    print(a)\n",
    "    show(a-1)\n",
    "show(5)"
   ]
  },
  {
   "cell_type": "code",
   "execution_count": 9,
   "id": "c29b4733-698a-47eb-b033-009756a90f06",
   "metadata": {},
   "outputs": [
    {
     "name": "stdout",
     "output_type": "stream",
     "text": [
      "1\n"
     ]
    }
   ],
   "source": [
    "def power_recursive(x,   ):\n",
    "    if n == 0:\n",
    "        return 1\n",
    "    else:\n",
    "        return x * power_recursive(x, n - 1)\n",
    "\n",
    "# Test cases\n",
    "#print(power_recursive(2, 3))  # Output: 8\n",
    "print(power_recursive(5, 0))  # Output: \n"
   ]
  },
  {
   "cell_type": "code",
   "execution_count": null,
   "id": "752c3517-ee74-44a1-9602-c425fc38d616",
   "metadata": {},
   "outputs": [],
   "source": []
  },
  {
   "cell_type": "code",
   "execution_count": 6,
   "id": "550b755c-a16e-4030-89c0-3e36d5855038",
   "metadata": {},
   "outputs": [
    {
     "data": {
      "text/plain": [
       "720"
      ]
     },
     "execution_count": 6,
     "metadata": {},
     "output_type": "execute_result"
    }
   ],
   "source": [
    "#factorial\n",
    "def fact(n):\n",
    "    if(n==0 or n==1):\n",
    "        return 1\n",
    "    return n*fact(n-1)\n",
    "fact(6) "
   ]
  },
  {
   "cell_type": "code",
   "execution_count": null,
   "id": "158e8249-e230-4c49-bcc3-51d870eb3604",
   "metadata": {},
   "outputs": [],
   "source": []
  }
 ],
 "metadata": {
  "kernelspec": {
   "display_name": "Python 3 (ipykernel)",
   "language": "python",
   "name": "python3"
  },
  "language_info": {
   "codemirror_mode": {
    "name": "ipython",
    "version": 3
   },
   "file_extension": ".py",
   "mimetype": "text/x-python",
   "name": "python",
   "nbconvert_exporter": "python",
   "pygments_lexer": "ipython3",
   "version": "3.11.0"
  }
 },
 "nbformat": 4,
 "nbformat_minor": 5
}
