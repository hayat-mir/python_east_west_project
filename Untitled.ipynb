{
 "cells": [
  {
   "cell_type": "code",
   "execution_count": 2,
   "id": "107b1bd1-8de9-4df1-a7ee-fead1ccf225b",
   "metadata": {},
   "outputs": [],
   "source": [
    "b=\"hello\""
   ]
  },
  {
   "cell_type": "code",
   "execution_count": 3,
   "id": "8a8b55cd-1d2e-4185-a8cf-23058032a5ac",
   "metadata": {},
   "outputs": [],
   "source": [
    "a=\"hayat\""
   ]
  },
  {
   "cell_type": "code",
   "execution_count": 6,
   "id": "6f2b2e70-0de7-4685-b67e-4d4ce1722e4a",
   "metadata": {},
   "outputs": [
    {
     "name": "stdout",
     "output_type": "stream",
     "text": [
      "hello my name is hayat hayathello\n"
     ]
    }
   ],
   "source": [
    "print(f'{b} my name is {a} {b+a}')"
   ]
  },
  {
   "cell_type": "code",
   "execution_count": null,
   "id": "7fc59010-ee82-4c07-b25b-0f5a52714755",
   "metadata": {},
   "outputs": [],
   "source": []
  },
  {
   "cell_type": "code",
   "execution_count": null,
   "id": "b99893bc-720e-4c0e-b229-499ddad27d54",
   "metadata": {},
   "outputs": [],
   "source": []
  },
  {
   "cell_type": "code",
   "execution_count": null,
   "id": "acd1f8bd-9017-487f-b7ab-d1df0b228269",
   "metadata": {},
   "outputs": [],
   "source": []
  },
  {
   "cell_type": "code",
   "execution_count": 2,
   "id": "7b639b08-cb23-4b20-b325-379fd2e8d730",
   "metadata": {},
   "outputs": [],
   "source": [
    "c=\"hello\""
   ]
  },
  {
   "cell_type": "code",
   "execution_count": 3,
   "id": "927e44b3-ca67-45d3-92b3-6a9aac206f9f",
   "metadata": {},
   "outputs": [
    {
     "ename": "KeyboardInterrupt",
     "evalue": "Interrupted by user",
     "output_type": "error",
     "traceback": [
      "\u001b[1;31m---------------------------------------------------------------------------\u001b[0m",
      "\u001b[1;31mKeyboardInterrupt\u001b[0m                         Traceback (most recent call last)",
      "Cell \u001b[1;32mIn[3], line 1\u001b[0m\n\u001b[1;32m----> 1\u001b[0m a\u001b[38;5;241m=\u001b[39m\u001b[38;5;28mint\u001b[39m(\u001b[38;5;28;43minput\u001b[39;49m\u001b[43m(\u001b[49m\u001b[38;5;124;43m\"\u001b[39;49m\u001b[38;5;124;43menter your age\u001b[39;49m\u001b[38;5;124;43m\"\u001b[39;49m\u001b[43m)\u001b[49m)\n\u001b[0;32m      2\u001b[0m \u001b[38;5;28mprint\u001b[39m(a)\n",
      "File \u001b[1;32m~\\AppData\\Local\\Programs\\Python\\Python311\\Lib\\site-packages\\ipykernel\\kernelbase.py:1282\u001b[0m, in \u001b[0;36mKernel.raw_input\u001b[1;34m(self, prompt)\u001b[0m\n\u001b[0;32m   1280\u001b[0m     msg \u001b[38;5;241m=\u001b[39m \u001b[38;5;124m\"\u001b[39m\u001b[38;5;124mraw_input was called, but this frontend does not support input requests.\u001b[39m\u001b[38;5;124m\"\u001b[39m\n\u001b[0;32m   1281\u001b[0m     \u001b[38;5;28;01mraise\u001b[39;00m StdinNotImplementedError(msg)\n\u001b[1;32m-> 1282\u001b[0m \u001b[38;5;28;01mreturn\u001b[39;00m \u001b[38;5;28;43mself\u001b[39;49m\u001b[38;5;241;43m.\u001b[39;49m\u001b[43m_input_request\u001b[49m\u001b[43m(\u001b[49m\n\u001b[0;32m   1283\u001b[0m \u001b[43m    \u001b[49m\u001b[38;5;28;43mstr\u001b[39;49m\u001b[43m(\u001b[49m\u001b[43mprompt\u001b[49m\u001b[43m)\u001b[49m\u001b[43m,\u001b[49m\n\u001b[0;32m   1284\u001b[0m \u001b[43m    \u001b[49m\u001b[38;5;28;43mself\u001b[39;49m\u001b[38;5;241;43m.\u001b[39;49m\u001b[43m_parent_ident\u001b[49m\u001b[43m[\u001b[49m\u001b[38;5;124;43m\"\u001b[39;49m\u001b[38;5;124;43mshell\u001b[39;49m\u001b[38;5;124;43m\"\u001b[39;49m\u001b[43m]\u001b[49m\u001b[43m,\u001b[49m\n\u001b[0;32m   1285\u001b[0m \u001b[43m    \u001b[49m\u001b[38;5;28;43mself\u001b[39;49m\u001b[38;5;241;43m.\u001b[39;49m\u001b[43mget_parent\u001b[49m\u001b[43m(\u001b[49m\u001b[38;5;124;43m\"\u001b[39;49m\u001b[38;5;124;43mshell\u001b[39;49m\u001b[38;5;124;43m\"\u001b[39;49m\u001b[43m)\u001b[49m\u001b[43m,\u001b[49m\n\u001b[0;32m   1286\u001b[0m \u001b[43m    \u001b[49m\u001b[43mpassword\u001b[49m\u001b[38;5;241;43m=\u001b[39;49m\u001b[38;5;28;43;01mFalse\u001b[39;49;00m\u001b[43m,\u001b[49m\n\u001b[0;32m   1287\u001b[0m \u001b[43m\u001b[49m\u001b[43m)\u001b[49m\n",
      "File \u001b[1;32m~\\AppData\\Local\\Programs\\Python\\Python311\\Lib\\site-packages\\ipykernel\\kernelbase.py:1325\u001b[0m, in \u001b[0;36mKernel._input_request\u001b[1;34m(self, prompt, ident, parent, password)\u001b[0m\n\u001b[0;32m   1322\u001b[0m \u001b[38;5;28;01mexcept\u001b[39;00m \u001b[38;5;167;01mKeyboardInterrupt\u001b[39;00m:\n\u001b[0;32m   1323\u001b[0m     \u001b[38;5;66;03m# re-raise KeyboardInterrupt, to truncate traceback\u001b[39;00m\n\u001b[0;32m   1324\u001b[0m     msg \u001b[38;5;241m=\u001b[39m \u001b[38;5;124m\"\u001b[39m\u001b[38;5;124mInterrupted by user\u001b[39m\u001b[38;5;124m\"\u001b[39m\n\u001b[1;32m-> 1325\u001b[0m     \u001b[38;5;28;01mraise\u001b[39;00m \u001b[38;5;167;01mKeyboardInterrupt\u001b[39;00m(msg) \u001b[38;5;28;01mfrom\u001b[39;00m\u001b[38;5;250m \u001b[39m\u001b[38;5;28;01mNone\u001b[39;00m\n\u001b[0;32m   1326\u001b[0m \u001b[38;5;28;01mexcept\u001b[39;00m \u001b[38;5;167;01mException\u001b[39;00m:\n\u001b[0;32m   1327\u001b[0m     \u001b[38;5;28mself\u001b[39m\u001b[38;5;241m.\u001b[39mlog\u001b[38;5;241m.\u001b[39mwarning(\u001b[38;5;124m\"\u001b[39m\u001b[38;5;124mInvalid Message:\u001b[39m\u001b[38;5;124m\"\u001b[39m, exc_info\u001b[38;5;241m=\u001b[39m\u001b[38;5;28;01mTrue\u001b[39;00m)\n",
      "\u001b[1;31mKeyboardInterrupt\u001b[0m: Interrupted by user"
     ]
    }
   ],
   "source": [
    "# a=int(input(\"enter your age\"))\n",
    "# print(a)"
   ]
  },
  {
   "cell_type": "code",
   "execution_count": null,
   "id": "008d995e-a905-48d6-bf6a-fa07c10fa397",
   "metadata": {},
   "outputs": [],
   "source": [
    "print(type(c))"
   ]
  },
  {
   "cell_type": "code",
   "execution_count": null,
   "id": "8daef061-4a02-440a-b09f-43163d3cc67e",
   "metadata": {},
   "outputs": [],
   "source": [
    "c[1]"
   ]
  },
  {
   "cell_type": "code",
   "execution_count": null,
   "id": "3c67d909-b4b6-4659-a8fb-c4216c8dc34a",
   "metadata": {},
   "outputs": [],
   "source": [
    "# age=int(input(\"enter your age\"))\n",
    "# iq=int(input(\"enter your iq\"))\n",
    "# if not(age> 18) and iq >100:\n",
    "#     print(\" eligable for licence\")\n",
    "# elif age >18 and iq <100:\n",
    "#     print(\"public threat\")\n",
    "# elif \n",
    "# else:\n",
    "#     print(\"not eligable\")\n"
   ]
  },
  {
   "cell_type": "code",
   "execution_count": null,
   "id": "a811a54c-5f0a-4d36-8935-f86bd96cfbcb",
   "metadata": {},
   "outputs": [],
   "source": [
    "d=\" hello world \""
   ]
  },
  {
   "cell_type": "code",
   "execution_count": null,
   "id": "b485c124-9616-4cc2-b4cf-dd549b1391d3",
   "metadata": {},
   "outputs": [],
   "source": [
    "d.strip()"
   ]
  },
  {
   "cell_type": "code",
   "execution_count": null,
   "id": "14f498b2-288e-4068-b07c-75d86a4d9cee",
   "metadata": {},
   "outputs": [],
   "source": [
    "e=\"hello world\"\n",
    "#e.isalpha()\n",
    "#e.isdigit()\n",
    "#e.count('o')\n",
    "e.find('l')\n"
   ]
  },
  {
   "cell_type": "code",
   "execution_count": null,
   "id": "7c3b0226-a2a2-4566-bf76-3836bdf05a7c",
   "metadata": {},
   "outputs": [],
   "source": []
  },
  {
   "cell_type": "markdown",
   "id": "c0ac593e-74e6-4473-b3d8-b217abe3a484",
   "metadata": {},
   "source": [
    "while and for looop"
   ]
  },
  {
   "cell_type": "code",
   "execution_count": null,
   "id": "08067d44-c603-482e-aded-957e7bb1fc05",
   "metadata": {},
   "outputs": [],
   "source": [
    "#  f=0\n",
    "# while f< 10:\n",
    "#     if f==6:\n",
    "#         continue\n",
    "#         #break\n",
    "#     # print(f)\n",
    "#     f+=2"
   ]
  },
  {
   "cell_type": "code",
   "execution_count": 4,
   "id": "9604fa03-dcb5-4a03-85ee-04db6e0d01e4",
   "metadata": {},
   "outputs": [
    {
     "name": "stdout",
     "output_type": "stream",
     "text": [
      "h\n",
      "e\n",
      "l\n",
      "l\n",
      "o\n",
      " \n",
      "w\n",
      "o\n",
      "r\n",
      "l\n",
      "d\n"
     ]
    }
   ],
   "source": [
    "for i in \"hello world\":\n",
    "    print(i)\n",
    "    "
   ]
  },
  {
   "cell_type": "code",
   "execution_count": 8,
   "id": "25e51aca-c8e2-4e32-8b71-8d352452c8eb",
   "metadata": {},
   "outputs": [
    {
     "name": "stdout",
     "output_type": "stream",
     "text": [
      "10\n",
      "8\n",
      "6\n",
      "4\n",
      "2\n"
     ]
    }
   ],
   "source": [
    "for i in range(10,0,-2):\n",
    "    print(i)"
   ]
  },
  {
   "cell_type": "code",
   "execution_count": 11,
   "id": "b136bdf6-6d16-465d-8601-10d81476aeb6",
   "metadata": {},
   "outputs": [
    {
     "name": "stdout",
     "output_type": "stream",
     "text": [
      "redapple\n",
      "redbanana\n",
      "redmango\n",
      "blueapple\n",
      "bluebanana\n",
      "bluemango\n",
      "orangeapple\n",
      "orangebanana\n",
      "orangemango\n"
     ]
    }
   ],
   "source": [
    "list1=[\"red\",\"blue\",\"orange\"]\n",
    "list2=[\"apple\",\"banana\",\"mango\"]\n",
    "for i in list1:\n",
    "    for j in list2:\n",
    "        print(i+j)"
   ]
  },
  {
   "cell_type": "code",
   "execution_count": 21,
   "id": "6c6f9156-7476-4195-9dfa-225e1dd0a6cc",
   "metadata": {},
   "outputs": [
    {
     "name": "stdout",
     "output_type": "stream",
     "text": [
      "[1, 2, 3, 5, 6, 7, 8]\n",
      "['abcd', 'def', 'llm', 'red']\n"
     ]
    }
   ],
   "source": [
    "lst=[\"abcd\",\"def\"]\n",
    "#remove\n",
    "#pop()\n",
    "#lst.pop()\n",
    "#lst.remove('abcd')\n",
    "#print(lst)\n",
    "\n",
    "lst.append(\"red\")\n",
    "\n",
    "lst.insert(5,'llm')\n",
    "#print(lst)\n",
    "\n",
    "lst.reverse()\n",
    "#print(lst)\n",
    "lst2=[3,5,6,7,2,1,8]\n",
    "lst2.sort()\n",
    "print(lst2)\n",
    "lst.sort()\n",
    "print(lst)\n"
   ]
  },
  {
   "cell_type": "code",
   "execution_count": 32,
   "id": "152ed604-c736-4b0d-a107-c207b36a089e",
   "metadata": {},
   "outputs": [
    {
     "ename": "SyntaxError",
     "evalue": "invalid syntax (222755725.py, line 11)",
     "output_type": "error",
     "traceback": [
      "\u001b[1;36m  Cell \u001b[1;32mIn[32], line 11\u001b[1;36m\u001b[0m\n\u001b[1;33m    lst3.del()\u001b[0m\n\u001b[1;37m         ^\u001b[0m\n\u001b[1;31mSyntaxError\u001b[0m\u001b[1;31m:\u001b[0m invalid syntax\n"
     ]
    }
   ],
   "source": [
    "lst3=[\"apple\",\"mango\",\"banana\"]\n",
    "lst4=['red',\"blue\",\"green\"]\n",
    "lst3.extend(lst4)\n",
    "print(lst3)\n",
    "# print(lst4)\n",
    "\n",
    "#\n",
    "print(lst3[2:5])\n",
    "\n",
    "\n"
   ]
  },
  {
   "cell_type": "code",
   "execution_count": null,
   "id": "327fa238-c9f9-4699-9c6a-b05654ef4be7",
   "metadata": {},
   "outputs": [],
   "source": [
    "# #pop\n",
    "# remove\n",
    "# insert\n",
    "# append\n",
    "# sort\n",
    "# reverse\n",
    "# slicing\n",
    "# extend\n",
    "# clear\n",
    "# del"
   ]
  },
  {
   "cell_type": "code",
   "execution_count": 24,
   "id": "96397628-30db-4207-9b53-06ba5405b482",
   "metadata": {},
   "outputs": [
    {
     "name": "stdout",
     "output_type": "stream",
     "text": [
      "{'name': 'abcd', 'age': 222, 'address': 'ch'}\n"
     ]
    }
   ],
   "source": [
    "#tuple methods\n",
    "t=(2,3,4,\"apple\")\n",
    "# print(t[0])\n",
    "# print(t[0:3])\n",
    "# Accessing\n",
    "# Slicing\n",
    "# Comparisons\n",
    "# Concatenation\n",
    "# Length\n",
    "# index\n",
    "# Counting\n",
    "# nested\n",
    "\n",
    "# a=\"hello\"\n",
    "# b=\"world\"\n",
    "# a+\" \"+b\n",
    "\n",
    "\n",
    "\n",
    "\n",
    "\n",
    "t5=(2,3,4,5,6)\n",
    "t6=(\"hello\",\"world\",3,2,1)\n",
    "t7=t5+t6\n",
    "#print(t7)\n",
    "len(t5)\n",
    "a=\"hellow\"\n",
    "a.count('l')\n",
    "\n",
    "lst8=[[2,3],[3,4],[4,5]]\n",
    "lst8[2][1]\n",
    "\n",
    "\n",
    "\n",
    "#dictionary \n",
    "\n",
    "\n",
    "\n",
    "#dictr.values()\n",
    "dictr.get(\"address\")\n",
    "dictr.update({\"name\":\"abcd\"})\n",
    "#print(dictr)\n",
    "dictr.pop(\"name\")\n",
    "\n",
    "dictr.clear()\n",
    "#print(dictr)\n",
    "dictr1={\"name\":\"hayat\",\"age\":25,\"address\":\"beng\"}\n",
    "dictr2={\"name\":\"abcd\",\"age\":22,\"address\":\"ch\"}\n",
    "dictr1.update(dictr2)\n",
    "print(dictr1)"
   ]
  },
  {
   "cell_type": "code",
   "execution_count": null,
   "id": "ce5c71b0-e7a2-4072-a109-2faac2a7f449",
   "metadata": {},
   "outputs": [],
   "source": []
  },
  {
   "cell_type": "code",
   "execution_count": null,
   "id": "6f069c0a-1d73-4d6b-9191-a3f9a583ed72",
   "metadata": {},
   "outputs": [],
   "source": []
  },
  {
   "cell_type": "code",
   "execution_count": null,
   "id": "e4ed3168-053a-4339-a98f-c34ea7bc8162",
   "metadata": {},
   "outputs": [],
   "source": [
    "#functions"
   ]
  },
  {
   "cell_type": "code",
   "execution_count": 31,
   "id": "277f24f5-19a4-4666-9b5e-03691b9f82de",
   "metadata": {},
   "outputs": [
    {
     "name": "stdout",
     "output_type": "stream",
     "text": [
      "hello hayat\n",
      "welcome\n",
      "to EWC\n",
      "and have a good day and bye\n",
      "hello akshatiya\n",
      "welcome\n",
      "to EWC\n",
      "and have a good day and bye\n",
      "hello sindhu\n",
      "welcome\n",
      "to EWC\n",
      "and have a good day and bye\n"
     ]
    }
   ],
   "source": [
    "def greeting(a,b):\n",
    "    print(f\"hello {a}\")\n",
    "    print(\"welcome\")\n",
    "    print(\"to EWC\")\n",
    "    print(f\"and have a good day and {b}\")\n",
    "greeting(\"hayat\",\"bye\")\n",
    "greeting(\"akshatiya\",\"bye\")\n",
    "greeting(\"sindhu\",\"bye\")"
   ]
  },
  {
   "cell_type": "code",
   "execution_count": 38,
   "id": "7adf8e7e-6b6e-4ef8-a16c-b7fdd1223622",
   "metadata": {},
   "outputs": [
    {
     "data": {
      "text/plain": [
       "14"
      ]
     },
     "execution_count": 38,
     "metadata": {},
     "output_type": "execute_result"
    }
   ],
   "source": [
    "def addt(a,b):\n",
    "    return a*b\n",
    "    \n",
    "\n",
    "addt(2,7)"
   ]
  },
  {
   "cell_type": "code",
   "execution_count": null,
   "id": "64601468-4216-4f5b-a106-87fd661c89bd",
   "metadata": {},
   "outputs": [],
   "source": [
    "#sets"
   ]
  },
  {
   "cell_type": "code",
   "execution_count": 3,
   "id": "f464cc61-e03f-49e2-b294-c7323a4893b4",
   "metadata": {},
   "outputs": [],
   "source": [
    "s={2,3,4,4,5}"
   ]
  },
  {
   "cell_type": "code",
   "execution_count": 2,
   "id": "be077121-f81b-41ea-b798-d087b1f7b049",
   "metadata": {},
   "outputs": [
    {
     "name": "stdout",
     "output_type": "stream",
     "text": [
      "<class 'set'>\n"
     ]
    }
   ],
   "source": [
    "print(type(s))"
   ]
  },
  {
   "cell_type": "code",
   "execution_count": 5,
   "id": "7f59143e-214a-4d14-84f1-d479aabf20ae",
   "metadata": {},
   "outputs": [
    {
     "name": "stdout",
     "output_type": "stream",
     "text": [
      "{2, 3, 4, 5}\n"
     ]
    }
   ],
   "source": [
    "print(s)"
   ]
  },
  {
   "cell_type": "code",
   "execution_count": 7,
   "id": "418a01bf-b7ca-4ae9-8f24-e1bfb9f94a26",
   "metadata": {},
   "outputs": [],
   "source": [
    "s1={2,3,4,3,2,\"hello\"}"
   ]
  },
  {
   "cell_type": "code",
   "execution_count": 8,
   "id": "933c65b4-cbbe-4e60-a97b-179d7bcbe068",
   "metadata": {},
   "outputs": [],
   "source": [
    "s1.add(5)"
   ]
  },
  {
   "cell_type": "code",
   "execution_count": 9,
   "id": "d5f6575d-ee13-417e-ada9-91409036e0d5",
   "metadata": {},
   "outputs": [],
   "source": [
    "s1.remove(\"hello\")"
   ]
  },
  {
   "cell_type": "code",
   "execution_count": 10,
   "id": "5d44ffd9-efb5-4ad6-ba65-c5b63478a769",
   "metadata": {},
   "outputs": [
    {
     "name": "stdout",
     "output_type": "stream",
     "text": [
      "{2, 3, 4, 5}\n"
     ]
    }
   ],
   "source": [
    "print(s1)"
   ]
  },
  {
   "cell_type": "code",
   "execution_count": 11,
   "id": "e6a56ce8-6fd6-4e2a-aefc-5e82406bee46",
   "metadata": {},
   "outputs": [
    {
     "data": {
      "text/plain": [
       "2"
      ]
     },
     "execution_count": 11,
     "metadata": {},
     "output_type": "execute_result"
    }
   ],
   "source": [
    "s1.pop()"
   ]
  },
  {
   "cell_type": "code",
   "execution_count": 12,
   "id": "74ee9434-d207-4b79-9556-5f85947896c5",
   "metadata": {},
   "outputs": [
    {
     "name": "stdout",
     "output_type": "stream",
     "text": [
      "{3, 4, 5}\n"
     ]
    }
   ],
   "source": [
    "print(s1)"
   ]
  },
  {
   "cell_type": "code",
   "execution_count": 19,
   "id": "65a5f28d-9d35-462b-a6e7-5777f3a454f8",
   "metadata": {},
   "outputs": [],
   "source": [
    "s2={1,2,3,4}\n",
    "s3={3,4,5,6}\n",
    "s4={4,5,6,7}\n",
    "a=s2.union(s3)"
   ]
  },
  {
   "cell_type": "code",
   "execution_count": 15,
   "id": "9552ba00-f033-4663-ab55-74dcb6521ad4",
   "metadata": {},
   "outputs": [
    {
     "name": "stdout",
     "output_type": "stream",
     "text": [
      "{1, 2, 3, 4, 5, 6}\n"
     ]
    }
   ],
   "source": [
    "print(a)"
   ]
  },
  {
   "cell_type": "code",
   "execution_count": 22,
   "id": "1ec7ab80-34de-4d3a-a70b-bb5ac0b0d8c0",
   "metadata": {},
   "outputs": [],
   "source": [
    "b=s2.intersection(s3,s4)"
   ]
  },
  {
   "cell_type": "code",
   "execution_count": 23,
   "id": "29d0c6e5-ee0d-46eb-a3bd-857a9c0d2197",
   "metadata": {},
   "outputs": [
    {
     "name": "stdout",
     "output_type": "stream",
     "text": [
      "{4}\n"
     ]
    }
   ],
   "source": [
    "print(b)"
   ]
  },
  {
   "cell_type": "code",
   "execution_count": null,
   "id": "bf13a5ff-e94b-48d7-8f34-caf8c94cafa2",
   "metadata": {},
   "outputs": [],
   "source": []
  },
  {
   "cell_type": "code",
   "execution_count": 25,
   "id": "c10f52e3-d8e4-4383-9fd3-8f49c0fdd162",
   "metadata": {},
   "outputs": [
    {
     "name": "stdin",
     "output_type": "stream",
     "text": [
      "enter number 2\n",
      "enter number 5\n"
     ]
    },
    {
     "data": {
      "text/plain": [
       "7"
      ]
     },
     "execution_count": 25,
     "metadata": {},
     "output_type": "execute_result"
    }
   ],
   "source": [
    "def add(a,b):\n",
    "    return a+b\n",
    "add(a=int(input(\"enter number\")),b=int(input(\"enter number\")))"
   ]
  },
  {
   "cell_type": "code",
   "execution_count": null,
   "id": "4321cda8-279f-4f2d-a5d6-24f11e526c98",
   "metadata": {},
   "outputs": [],
   "source": []
  }
 ],
 "metadata": {
  "kernelspec": {
   "display_name": "Python 3 (ipykernel)",
   "language": "python",
   "name": "python3"
  },
  "language_info": {
   "codemirror_mode": {
    "name": "ipython",
    "version": 3
   },
   "file_extension": ".py",
   "mimetype": "text/x-python",
   "name": "python",
   "nbconvert_exporter": "python",
   "pygments_lexer": "ipython3",
   "version": "3.11.0"
  }
 },
 "nbformat": 4,
 "nbformat_minor": 5
}
