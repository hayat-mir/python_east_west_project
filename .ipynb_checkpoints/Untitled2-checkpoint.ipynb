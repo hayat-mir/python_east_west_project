{
 "cells": [
  {
   "cell_type": "code",
   "execution_count": 1,
   "id": "5448dd14-561f-42fc-95ec-82d2743c5006",
   "metadata": {},
   "outputs": [
    {
     "name": "stdout",
     "output_type": "stream",
     "text": [
      "Requirement already satisfied: pandas in c:\\users\\hayat\\appdata\\local\\programs\\python\\python311\\lib\\site-packages (2.2.2)\n",
      "Collecting numpy>=1.23.2 (from pandas)\n",
      "  Downloading numpy-2.3.3-cp311-cp311-win_amd64.whl.metadata (60 kB)\n",
      "Requirement already satisfied: python-dateutil>=2.8.2 in c:\\users\\hayat\\appdata\\local\\programs\\python\\python311\\lib\\site-packages (from pandas) (2.9.0.post0)\n",
      "Requirement already satisfied: pytz>=2020.1 in c:\\users\\hayat\\appdata\\local\\programs\\python\\python311\\lib\\site-packages (from pandas) (2024.2)\n",
      "Requirement already satisfied: tzdata>=2022.7 in c:\\users\\hayat\\appdata\\local\\programs\\python\\python311\\lib\\site-packages (from pandas) (2025.1)\n",
      "Requirement already satisfied: six>=1.5 in c:\\users\\hayat\\appdata\\local\\programs\\python\\python311\\lib\\site-packages (from python-dateutil>=2.8.2->pandas) (1.16.0)\n",
      "Downloading numpy-2.3.3-cp311-cp311-win_amd64.whl (13.1 MB)\n",
      "   ---------------------------------------- 0.0/13.1 MB ? eta -:--:--\n",
      "   ---------------------------------------- 0.0/13.1 MB ? eta -:--:--\n",
      "   ---------------------------------------- 0.0/13.1 MB ? eta -:--:--\n",
      "    --------------------------------------- 0.3/13.1 MB ? eta -:--:--\n",
      "   - -------------------------------------- 0.5/13.1 MB 1.1 MB/s eta 0:00:12\n",
      "   -- ------------------------------------- 0.8/13.1 MB 882.6 kB/s eta 0:00:14\n",
      "   -- ------------------------------------- 0.8/13.1 MB 882.6 kB/s eta 0:00:14\n",
      "   --- ------------------------------------ 1.0/13.1 MB 824.4 kB/s eta 0:00:15\n",
      "   --- ------------------------------------ 1.0/13.1 MB 824.4 kB/s eta 0:00:15\n",
      "   --- ------------------------------------ 1.0/13.1 MB 824.4 kB/s eta 0:00:15\n",
      "   ---- ----------------------------------- 1.6/13.1 MB 791.0 kB/s eta 0:00:15\n",
      "   ----- ---------------------------------- 1.8/13.1 MB 845.6 kB/s eta 0:00:14\n",
      "   ------ --------------------------------- 2.1/13.1 MB 931.9 kB/s eta 0:00:12\n",
      "   ------- -------------------------------- 2.4/13.1 MB 919.0 kB/s eta 0:00:12\n",
      "   ------- -------------------------------- 2.4/13.1 MB 919.0 kB/s eta 0:00:12\n",
      "   ------- -------------------------------- 2.4/13.1 MB 919.0 kB/s eta 0:00:12\n",
      "   ------- -------------------------------- 2.4/13.1 MB 919.0 kB/s eta 0:00:12\n",
      "   ------- -------------------------------- 2.4/13.1 MB 919.0 kB/s eta 0:00:12\n",
      "   ------- -------------------------------- 2.4/13.1 MB 919.0 kB/s eta 0:00:12\n",
      "   -------- ------------------------------- 2.9/13.1 MB 749.0 kB/s eta 0:00:14\n",
      "   -------- ------------------------------- 2.9/13.1 MB 749.0 kB/s eta 0:00:14\n",
      "   -------- ------------------------------- 2.9/13.1 MB 749.0 kB/s eta 0:00:14\n",
      "   ---------- ----------------------------- 3.4/13.1 MB 740.2 kB/s eta 0:00:14\n",
      "   ---------- ----------------------------- 3.4/13.1 MB 740.2 kB/s eta 0:00:14\n",
      "   ---------- ----------------------------- 3.4/13.1 MB 740.2 kB/s eta 0:00:14\n",
      "   ------------ --------------------------- 3.9/13.1 MB 775.1 kB/s eta 0:00:12\n",
      "   ------------ --------------------------- 4.2/13.1 MB 796.3 kB/s eta 0:00:12\n",
      "   ------------- -------------------------- 4.5/13.1 MB 806.0 kB/s eta 0:00:11\n",
      "   -------------- ------------------------- 4.7/13.1 MB 803.4 kB/s eta 0:00:11\n",
      "   -------------- ------------------------- 4.7/13.1 MB 803.4 kB/s eta 0:00:11\n",
      "   -------------- ------------------------- 4.7/13.1 MB 803.4 kB/s eta 0:00:11\n",
      "   ---------------- ----------------------- 5.2/13.1 MB 819.3 kB/s eta 0:00:10\n",
      "   ---------------- ----------------------- 5.2/13.1 MB 819.3 kB/s eta 0:00:10\n",
      "   ---------------- ----------------------- 5.5/13.1 MB 812.3 kB/s eta 0:00:10\n",
      "   ----------------- ---------------------- 5.8/13.1 MB 819.3 kB/s eta 0:00:09\n",
      "   ------------------ --------------------- 6.0/13.1 MB 838.9 kB/s eta 0:00:09\n",
      "   ------------------- -------------------- 6.3/13.1 MB 836.9 kB/s eta 0:00:09\n",
      "   ------------------- -------------------- 6.3/13.1 MB 836.9 kB/s eta 0:00:09\n",
      "   ------------------- -------------------- 6.3/13.1 MB 836.9 kB/s eta 0:00:09\n",
      "   ------------------- -------------------- 6.3/13.1 MB 836.9 kB/s eta 0:00:09\n",
      "   ------------------- -------------------- 6.3/13.1 MB 836.9 kB/s eta 0:00:09\n",
      "   -------------------- ------------------- 6.8/13.1 MB 795.8 kB/s eta 0:00:08\n",
      "   -------------------- ------------------- 6.8/13.1 MB 795.8 kB/s eta 0:00:08\n",
      "   -------------------- ------------------- 6.8/13.1 MB 795.8 kB/s eta 0:00:08\n",
      "   -------------------- ------------------- 6.8/13.1 MB 795.8 kB/s eta 0:00:08\n",
      "   -------------------- ------------------- 6.8/13.1 MB 795.8 kB/s eta 0:00:08\n",
      "   -------------------- ------------------- 6.8/13.1 MB 795.8 kB/s eta 0:00:08\n",
      "   -------------------- ------------------- 6.8/13.1 MB 795.8 kB/s eta 0:00:08\n",
      "   --------------------- ------------------ 7.1/13.1 MB 711.5 kB/s eta 0:00:09\n",
      "   --------------------- ------------------ 7.1/13.1 MB 711.5 kB/s eta 0:00:09\n",
      "   ---------------------- ----------------- 7.3/13.1 MB 705.5 kB/s eta 0:00:09\n",
      "   ---------------------- ----------------- 7.3/13.1 MB 705.5 kB/s eta 0:00:09\n",
      "   ----------------------- ---------------- 7.6/13.1 MB 699.0 kB/s eta 0:00:08\n",
      "   ----------------------- ---------------- 7.6/13.1 MB 699.0 kB/s eta 0:00:08\n",
      "   ------------------------ --------------- 7.9/13.1 MB 699.0 kB/s eta 0:00:08\n",
      "   ------------------------ --------------- 8.1/13.1 MB 702.9 kB/s eta 0:00:08\n",
      "   ------------------------ --------------- 8.1/13.1 MB 702.9 kB/s eta 0:00:08\n",
      "   ------------------------- -------------- 8.4/13.1 MB 694.3 kB/s eta 0:00:07\n",
      "   ------------------------- -------------- 8.4/13.1 MB 694.3 kB/s eta 0:00:07\n",
      "   -------------------------- ------------- 8.7/13.1 MB 691.8 kB/s eta 0:00:07\n",
      "   -------------------------- ------------- 8.7/13.1 MB 691.8 kB/s eta 0:00:07\n",
      "   --------------------------- ------------ 8.9/13.1 MB 695.5 kB/s eta 0:00:07\n",
      "   --------------------------- ------------ 8.9/13.1 MB 695.5 kB/s eta 0:00:07\n",
      "   --------------------------- ------------ 8.9/13.1 MB 695.5 kB/s eta 0:00:07\n",
      "   --------------------------- ------------ 8.9/13.1 MB 695.5 kB/s eta 0:00:07\n",
      "   --------------------------- ------------ 8.9/13.1 MB 695.5 kB/s eta 0:00:07\n",
      "   --------------------------- ------------ 8.9/13.1 MB 695.5 kB/s eta 0:00:07\n",
      "   ---------------------------- ----------- 9.2/13.1 MB 648.9 kB/s eta 0:00:07\n",
      "   ---------------------------- ----------- 9.2/13.1 MB 648.9 kB/s eta 0:00:07\n",
      "   ---------------------------- ----------- 9.2/13.1 MB 648.9 kB/s eta 0:00:07\n",
      "   ---------------------------- ----------- 9.4/13.1 MB 634.1 kB/s eta 0:00:06\n",
      "   ---------------------------- ----------- 9.4/13.1 MB 634.1 kB/s eta 0:00:06\n",
      "   ---------------------------- ----------- 9.4/13.1 MB 634.1 kB/s eta 0:00:06\n",
      "   ----------------------------- ---------- 9.7/13.1 MB 629.1 kB/s eta 0:00:06\n",
      "   ----------------------------- ---------- 9.7/13.1 MB 629.1 kB/s eta 0:00:06\n",
      "   ----------------------------- ---------- 9.7/13.1 MB 629.1 kB/s eta 0:00:06\n",
      "   ----------------------------- ---------- 9.7/13.1 MB 629.1 kB/s eta 0:00:06\n",
      "   ----------------------------- ---------- 9.7/13.1 MB 629.1 kB/s eta 0:00:06\n",
      "   ----------------------------- ---------- 9.7/13.1 MB 629.1 kB/s eta 0:00:06\n",
      "   ----------------------------- ---------- 9.7/13.1 MB 629.1 kB/s eta 0:00:06\n",
      "   ------------------------------ --------- 10.0/13.1 MB 586.2 kB/s eta 0:00:06\n",
      "   ------------------------------ --------- 10.0/13.1 MB 586.2 kB/s eta 0:00:06\n",
      "   ------------------------------ --------- 10.0/13.1 MB 586.2 kB/s eta 0:00:06\n",
      "   ------------------------------ --------- 10.0/13.1 MB 586.2 kB/s eta 0:00:06\n",
      "   ------------------------------ --------- 10.0/13.1 MB 586.2 kB/s eta 0:00:06\n",
      "   ------------------------------- -------- 10.2/13.1 MB 564.2 kB/s eta 0:00:06\n",
      "   ------------------------------- -------- 10.2/13.1 MB 564.2 kB/s eta 0:00:06\n",
      "   ------------------------------- -------- 10.2/13.1 MB 564.2 kB/s eta 0:00:06\n",
      "   ------------------------------- -------- 10.2/13.1 MB 564.2 kB/s eta 0:00:06\n",
      "   ------------------------------- -------- 10.2/13.1 MB 564.2 kB/s eta 0:00:06\n",
      "   ------------------------------- -------- 10.2/13.1 MB 564.2 kB/s eta 0:00:06\n",
      "   -------------------------------- ------- 10.5/13.1 MB 541.2 kB/s eta 0:00:05\n",
      "   -------------------------------- ------- 10.5/13.1 MB 541.2 kB/s eta 0:00:05\n",
      "   -------------------------------- ------- 10.5/13.1 MB 541.2 kB/s eta 0:00:05\n",
      "   -------------------------------- ------- 10.5/13.1 MB 541.2 kB/s eta 0:00:05\n",
      "   -------------------------------- ------- 10.7/13.1 MB 528.4 kB/s eta 0:00:05\n",
      "   -------------------------------- ------- 10.7/13.1 MB 528.4 kB/s eta 0:00:05\n",
      "   -------------------------------- ------- 10.7/13.1 MB 528.4 kB/s eta 0:00:05\n",
      "   -------------------------------- ------- 10.7/13.1 MB 528.4 kB/s eta 0:00:05\n",
      "   -------------------------------- ------- 10.7/13.1 MB 528.4 kB/s eta 0:00:05\n",
      "   -------------------------------- ------- 10.7/13.1 MB 528.4 kB/s eta 0:00:05\n",
      "   --------------------------------- ------ 11.0/13.1 MB 509.9 kB/s eta 0:00:05\n",
      "   --------------------------------- ------ 11.0/13.1 MB 509.9 kB/s eta 0:00:05\n",
      "   --------------------------------- ------ 11.0/13.1 MB 509.9 kB/s eta 0:00:05\n",
      "   --------------------------------- ------ 11.0/13.1 MB 509.9 kB/s eta 0:00:05\n",
      "   --------------------------------- ------ 11.0/13.1 MB 509.9 kB/s eta 0:00:05\n",
      "   --------------------------------- ------ 11.0/13.1 MB 509.9 kB/s eta 0:00:05\n",
      "   --------------------------------- ------ 11.0/13.1 MB 509.9 kB/s eta 0:00:05\n",
      "   --------------------------------- ------ 11.0/13.1 MB 509.9 kB/s eta 0:00:05\n",
      "   ---------------------------------- ----- 11.3/13.1 MB 483.3 kB/s eta 0:00:04\n",
      "   ---------------------------------- ----- 11.3/13.1 MB 483.3 kB/s eta 0:00:04\n",
      "   ---------------------------------- ----- 11.3/13.1 MB 483.3 kB/s eta 0:00:04\n",
      "   ---------------------------------- ----- 11.3/13.1 MB 483.3 kB/s eta 0:00:04\n",
      "   ---------------------------------- ----- 11.3/13.1 MB 483.3 kB/s eta 0:00:04\n",
      "   ---------------------------------- ----- 11.3/13.1 MB 483.3 kB/s eta 0:00:04\n",
      "   ---------------------------------- ----- 11.3/13.1 MB 483.3 kB/s eta 0:00:04\n",
      "   ----------------------------------- ---- 11.5/13.1 MB 463.0 kB/s eta 0:00:04\n",
      "   ----------------------------------- ---- 11.5/13.1 MB 463.0 kB/s eta 0:00:04\n",
      "   ----------------------------------- ---- 11.5/13.1 MB 463.0 kB/s eta 0:00:04\n",
      "   ----------------------------------- ---- 11.5/13.1 MB 463.0 kB/s eta 0:00:04\n",
      "   ----------------------------------- ---- 11.5/13.1 MB 463.0 kB/s eta 0:00:04\n",
      "   ------------------------------------ --- 11.8/13.1 MB 452.9 kB/s eta 0:00:03\n",
      "   ------------------------------------ --- 11.8/13.1 MB 452.9 kB/s eta 0:00:03\n",
      "   ------------------------------------ --- 11.8/13.1 MB 452.9 kB/s eta 0:00:03\n",
      "   ------------------------------------ --- 11.8/13.1 MB 452.9 kB/s eta 0:00:03\n",
      "   ------------------------------------ --- 11.8/13.1 MB 452.9 kB/s eta 0:00:03\n",
      "   ------------------------------------ --- 11.8/13.1 MB 452.9 kB/s eta 0:00:03\n",
      "   ------------------------------------ --- 12.1/13.1 MB 441.0 kB/s eta 0:00:03\n",
      "   ------------------------------------ --- 12.1/13.1 MB 441.0 kB/s eta 0:00:03\n",
      "   ------------------------------------ --- 12.1/13.1 MB 441.0 kB/s eta 0:00:03\n",
      "   ------------------------------------ --- 12.1/13.1 MB 441.0 kB/s eta 0:00:03\n",
      "   ------------------------------------ --- 12.1/13.1 MB 441.0 kB/s eta 0:00:03\n",
      "   ------------------------------------ --- 12.1/13.1 MB 441.0 kB/s eta 0:00:03\n",
      "   ------------------------------------ --- 12.1/13.1 MB 441.0 kB/s eta 0:00:03\n",
      "   ------------------------------------ --- 12.1/13.1 MB 441.0 kB/s eta 0:00:03\n",
      "   ------------------------------------- -- 12.3/13.1 MB 424.3 kB/s eta 0:00:02\n",
      "   ------------------------------------- -- 12.3/13.1 MB 424.3 kB/s eta 0:00:02\n",
      "   -------------------------------------- - 12.6/13.1 MB 427.2 kB/s eta 0:00:02\n",
      "   -------------------------------------- - 12.6/13.1 MB 427.2 kB/s eta 0:00:02\n",
      "   -------------------------------------- - 12.6/13.1 MB 427.2 kB/s eta 0:00:02\n",
      "   -------------------------------------- - 12.6/13.1 MB 427.2 kB/s eta 0:00:02\n",
      "   -------------------------------------- - 12.6/13.1 MB 427.2 kB/s eta 0:00:02\n",
      "   ---------------------------------------  12.8/13.1 MB 421.4 kB/s eta 0:00:01\n",
      "   ---------------------------------------  12.8/13.1 MB 421.4 kB/s eta 0:00:01\n",
      "   ---------------------------------------  12.8/13.1 MB 421.4 kB/s eta 0:00:01\n",
      "   ---------------------------------------  12.8/13.1 MB 421.4 kB/s eta 0:00:01\n",
      "   ---------------------------------------- 13.1/13.1 MB 404.5 kB/s  0:00:31\n",
      "Installing collected packages: numpy\n",
      "  Attempting uninstall: numpy\n",
      "    Found existing installation: numpy 1.23.0\n",
      "    Uninstalling numpy-1.23.0:\n",
      "      Successfully uninstalled numpy-1.23.0\n",
      "Successfully installed numpy-2.3.3\n",
      "Note: you may need to restart the kernel to use updated packages.\n"
     ]
    },
    {
     "name": "stderr",
     "output_type": "stream",
     "text": [
      "ERROR: pip's dependency resolver does not currently take into account all the packages that are installed. This behaviour is the source of the following dependency conflicts.\n",
      "chromadb 0.5.23 requires tokenizers<=0.20.3,>=0.13.2, but you have tokenizers 0.21.4 which is incompatible.\n",
      "crewai 0.100.1 requires pdfplumber>=0.11.4, but you have pdfplumber 0.7.4 which is incompatible.\n",
      "embedchain 0.1.126 requires rich<14.0.0,>=13.7.0, but you have rich 14.1.0 which is incompatible.\n",
      "fastembed 0.7.1 requires pillow<12.0.0,>=10.3.0, but you have pillow 9.3.0 which is incompatible.\n",
      "langchain 0.3.18 requires numpy<2,>=1.26.4; python_version < \"3.12\", but you have numpy 2.3.3 which is incompatible.\n",
      "langchain-community 0.3.17 requires numpy<2,>=1.26.4; python_version < \"3.12\", but you have numpy 2.3.3 which is incompatible.\n",
      "langchain-community 0.3.17 requires pydantic-settings<3.0.0,>=2.4.0, but you have pydantic-settings 2.2.1 which is incompatible.\n",
      "scipy 1.13.1 requires numpy<2.3,>=1.22.4, but you have numpy 2.3.3 which is incompatible.\n",
      "streamlit 1.42.0 requires rich<14,>=10.14.0, but you have rich 14.1.0 which is incompatible.\n"
     ]
    }
   ],
   "source": [
    "pip install pandas"
   ]
  },
  {
   "cell_type": "code",
   "execution_count": 3,
   "id": "a0d2cd4b-d3fa-4c38-ae1e-e4073aa2c661",
   "metadata": {},
   "outputs": [],
   "source": [
    "import pandas as pd"
   ]
  },
  {
   "cell_type": "code",
   "execution_count": 5,
   "id": "8c9428a6-2a2e-4b12-91f7-c886e847f6f8",
   "metadata": {},
   "outputs": [],
   "source": [
    "df=pd.read_csv(\"Sales_December_2019.csv\")\n"
   ]
  },
  {
   "cell_type": "code",
   "execution_count": 6,
   "id": "fad0f1f6-44fe-496a-bd9a-d3f26da893a2",
   "metadata": {},
   "outputs": [
    {
     "data": {
      "text/html": [
       "<div>\n",
       "<style scoped>\n",
       "    .dataframe tbody tr th:only-of-type {\n",
       "        vertical-align: middle;\n",
       "    }\n",
       "\n",
       "    .dataframe tbody tr th {\n",
       "        vertical-align: top;\n",
       "    }\n",
       "\n",
       "    .dataframe thead th {\n",
       "        text-align: right;\n",
       "    }\n",
       "</style>\n",
       "<table border=\"1\" class=\"dataframe\">\n",
       "  <thead>\n",
       "    <tr style=\"text-align: right;\">\n",
       "      <th></th>\n",
       "      <th>Order ID</th>\n",
       "      <th>Product</th>\n",
       "      <th>Quantity Ordered</th>\n",
       "      <th>Price Each</th>\n",
       "      <th>Order Date</th>\n",
       "      <th>Purchase Address</th>\n",
       "    </tr>\n",
       "  </thead>\n",
       "  <tbody>\n",
       "    <tr>\n",
       "      <th>0</th>\n",
       "      <td>295665</td>\n",
       "      <td>Macbook Pro Laptop</td>\n",
       "      <td>1</td>\n",
       "      <td>1700</td>\n",
       "      <td>12/30/19 00:01</td>\n",
       "      <td>136 Church St, New York City, NY 10001</td>\n",
       "    </tr>\n",
       "    <tr>\n",
       "      <th>1</th>\n",
       "      <td>295666</td>\n",
       "      <td>LG Washing Machine</td>\n",
       "      <td>1</td>\n",
       "      <td>600.0</td>\n",
       "      <td>12/29/19 07:03</td>\n",
       "      <td>562 2nd St, New York City, NY 10001</td>\n",
       "    </tr>\n",
       "    <tr>\n",
       "      <th>2</th>\n",
       "      <td>295667</td>\n",
       "      <td>USB-C Charging Cable</td>\n",
       "      <td>1</td>\n",
       "      <td>11.95</td>\n",
       "      <td>12/12/19 18:21</td>\n",
       "      <td>277 Main St, New York City, NY 10001</td>\n",
       "    </tr>\n",
       "    <tr>\n",
       "      <th>3</th>\n",
       "      <td>295668</td>\n",
       "      <td>27in FHD Monitor</td>\n",
       "      <td>1</td>\n",
       "      <td>149.99</td>\n",
       "      <td>12/22/19 15:13</td>\n",
       "      <td>410 6th St, San Francisco, CA 94016</td>\n",
       "    </tr>\n",
       "    <tr>\n",
       "      <th>4</th>\n",
       "      <td>295669</td>\n",
       "      <td>USB-C Charging Cable</td>\n",
       "      <td>1</td>\n",
       "      <td>11.95</td>\n",
       "      <td>12/18/19 12:38</td>\n",
       "      <td>43 Hill St, Atlanta, GA 30301</td>\n",
       "    </tr>\n",
       "    <tr>\n",
       "      <th>...</th>\n",
       "      <td>...</td>\n",
       "      <td>...</td>\n",
       "      <td>...</td>\n",
       "      <td>...</td>\n",
       "      <td>...</td>\n",
       "      <td>...</td>\n",
       "    </tr>\n",
       "    <tr>\n",
       "      <th>25112</th>\n",
       "      <td>319666</td>\n",
       "      <td>Lightning Charging Cable</td>\n",
       "      <td>1</td>\n",
       "      <td>14.95</td>\n",
       "      <td>12/11/19 20:58</td>\n",
       "      <td>14 Madison St, San Francisco, CA 94016</td>\n",
       "    </tr>\n",
       "    <tr>\n",
       "      <th>25113</th>\n",
       "      <td>319667</td>\n",
       "      <td>AA Batteries (4-pack)</td>\n",
       "      <td>2</td>\n",
       "      <td>3.84</td>\n",
       "      <td>12/01/19 12:01</td>\n",
       "      <td>549 Willow St, Los Angeles, CA 90001</td>\n",
       "    </tr>\n",
       "    <tr>\n",
       "      <th>25114</th>\n",
       "      <td>319668</td>\n",
       "      <td>Vareebadd Phone</td>\n",
       "      <td>1</td>\n",
       "      <td>400</td>\n",
       "      <td>12/09/19 06:43</td>\n",
       "      <td>273 Wilson St, Seattle, WA 98101</td>\n",
       "    </tr>\n",
       "    <tr>\n",
       "      <th>25115</th>\n",
       "      <td>319669</td>\n",
       "      <td>Wired Headphones</td>\n",
       "      <td>1</td>\n",
       "      <td>11.99</td>\n",
       "      <td>12/03/19 10:39</td>\n",
       "      <td>778 River St, Dallas, TX 75001</td>\n",
       "    </tr>\n",
       "    <tr>\n",
       "      <th>25116</th>\n",
       "      <td>319670</td>\n",
       "      <td>Bose SoundSport Headphones</td>\n",
       "      <td>1</td>\n",
       "      <td>99.99</td>\n",
       "      <td>12/21/19 21:45</td>\n",
       "      <td>747 Chestnut St, Los Angeles, CA 90001</td>\n",
       "    </tr>\n",
       "  </tbody>\n",
       "</table>\n",
       "<p>25117 rows × 6 columns</p>\n",
       "</div>"
      ],
      "text/plain": [
       "      Order ID                     Product Quantity Ordered Price Each  \\\n",
       "0       295665          Macbook Pro Laptop                1       1700   \n",
       "1       295666          LG Washing Machine                1      600.0   \n",
       "2       295667        USB-C Charging Cable                1      11.95   \n",
       "3       295668            27in FHD Monitor                1     149.99   \n",
       "4       295669        USB-C Charging Cable                1      11.95   \n",
       "...        ...                         ...              ...        ...   \n",
       "25112   319666    Lightning Charging Cable                1      14.95   \n",
       "25113   319667       AA Batteries (4-pack)                2       3.84   \n",
       "25114   319668             Vareebadd Phone                1        400   \n",
       "25115   319669            Wired Headphones                1      11.99   \n",
       "25116   319670  Bose SoundSport Headphones                1      99.99   \n",
       "\n",
       "           Order Date                        Purchase Address  \n",
       "0      12/30/19 00:01  136 Church St, New York City, NY 10001  \n",
       "1      12/29/19 07:03     562 2nd St, New York City, NY 10001  \n",
       "2      12/12/19 18:21    277 Main St, New York City, NY 10001  \n",
       "3      12/22/19 15:13     410 6th St, San Francisco, CA 94016  \n",
       "4      12/18/19 12:38           43 Hill St, Atlanta, GA 30301  \n",
       "...               ...                                     ...  \n",
       "25112  12/11/19 20:58  14 Madison St, San Francisco, CA 94016  \n",
       "25113  12/01/19 12:01    549 Willow St, Los Angeles, CA 90001  \n",
       "25114  12/09/19 06:43        273 Wilson St, Seattle, WA 98101  \n",
       "25115  12/03/19 10:39          778 River St, Dallas, TX 75001  \n",
       "25116  12/21/19 21:45  747 Chestnut St, Los Angeles, CA 90001  \n",
       "\n",
       "[25117 rows x 6 columns]"
      ]
     },
     "execution_count": 6,
     "metadata": {},
     "output_type": "execute_result"
    }
   ],
   "source": [
    "df"
   ]
  },
  {
   "cell_type": "code",
   "execution_count": 8,
   "id": "59ddfe34-cc8b-47d3-bf93-cb7ddbc98e52",
   "metadata": {},
   "outputs": [
    {
     "data": {
      "text/html": [
       "<div>\n",
       "<style scoped>\n",
       "    .dataframe tbody tr th:only-of-type {\n",
       "        vertical-align: middle;\n",
       "    }\n",
       "\n",
       "    .dataframe tbody tr th {\n",
       "        vertical-align: top;\n",
       "    }\n",
       "\n",
       "    .dataframe thead th {\n",
       "        text-align: right;\n",
       "    }\n",
       "</style>\n",
       "<table border=\"1\" class=\"dataframe\">\n",
       "  <thead>\n",
       "    <tr style=\"text-align: right;\">\n",
       "      <th></th>\n",
       "      <th>Order ID</th>\n",
       "      <th>Product</th>\n",
       "      <th>Quantity Ordered</th>\n",
       "      <th>Price Each</th>\n",
       "      <th>Order Date</th>\n",
       "      <th>Purchase Address</th>\n",
       "    </tr>\n",
       "  </thead>\n",
       "  <tbody>\n",
       "    <tr>\n",
       "      <th>0</th>\n",
       "      <td>295665</td>\n",
       "      <td>Macbook Pro Laptop</td>\n",
       "      <td>1</td>\n",
       "      <td>1700</td>\n",
       "      <td>12/30/19 00:01</td>\n",
       "      <td>136 Church St, New York City, NY 10001</td>\n",
       "    </tr>\n",
       "    <tr>\n",
       "      <th>1</th>\n",
       "      <td>295666</td>\n",
       "      <td>LG Washing Machine</td>\n",
       "      <td>1</td>\n",
       "      <td>600.0</td>\n",
       "      <td>12/29/19 07:03</td>\n",
       "      <td>562 2nd St, New York City, NY 10001</td>\n",
       "    </tr>\n",
       "    <tr>\n",
       "      <th>2</th>\n",
       "      <td>295667</td>\n",
       "      <td>USB-C Charging Cable</td>\n",
       "      <td>1</td>\n",
       "      <td>11.95</td>\n",
       "      <td>12/12/19 18:21</td>\n",
       "      <td>277 Main St, New York City, NY 10001</td>\n",
       "    </tr>\n",
       "    <tr>\n",
       "      <th>3</th>\n",
       "      <td>295668</td>\n",
       "      <td>27in FHD Monitor</td>\n",
       "      <td>1</td>\n",
       "      <td>149.99</td>\n",
       "      <td>12/22/19 15:13</td>\n",
       "      <td>410 6th St, San Francisco, CA 94016</td>\n",
       "    </tr>\n",
       "    <tr>\n",
       "      <th>4</th>\n",
       "      <td>295669</td>\n",
       "      <td>USB-C Charging Cable</td>\n",
       "      <td>1</td>\n",
       "      <td>11.95</td>\n",
       "      <td>12/18/19 12:38</td>\n",
       "      <td>43 Hill St, Atlanta, GA 30301</td>\n",
       "    </tr>\n",
       "    <tr>\n",
       "      <th>5</th>\n",
       "      <td>295670</td>\n",
       "      <td>AA Batteries (4-pack)</td>\n",
       "      <td>1</td>\n",
       "      <td>3.84</td>\n",
       "      <td>12/31/19 22:58</td>\n",
       "      <td>200 Jefferson St, New York City, NY 10001</td>\n",
       "    </tr>\n",
       "    <tr>\n",
       "      <th>6</th>\n",
       "      <td>295671</td>\n",
       "      <td>USB-C Charging Cable</td>\n",
       "      <td>1</td>\n",
       "      <td>11.95</td>\n",
       "      <td>12/16/19 15:10</td>\n",
       "      <td>928 12th St, Portland, OR 97035</td>\n",
       "    </tr>\n",
       "    <tr>\n",
       "      <th>7</th>\n",
       "      <td>295672</td>\n",
       "      <td>USB-C Charging Cable</td>\n",
       "      <td>2</td>\n",
       "      <td>11.95</td>\n",
       "      <td>12/13/19 09:29</td>\n",
       "      <td>813 Hickory St, Dallas, TX 75001</td>\n",
       "    </tr>\n",
       "  </tbody>\n",
       "</table>\n",
       "</div>"
      ],
      "text/plain": [
       "  Order ID                Product Quantity Ordered Price Each      Order Date  \\\n",
       "0   295665     Macbook Pro Laptop                1       1700  12/30/19 00:01   \n",
       "1   295666     LG Washing Machine                1      600.0  12/29/19 07:03   \n",
       "2   295667   USB-C Charging Cable                1      11.95  12/12/19 18:21   \n",
       "3   295668       27in FHD Monitor                1     149.99  12/22/19 15:13   \n",
       "4   295669   USB-C Charging Cable                1      11.95  12/18/19 12:38   \n",
       "5   295670  AA Batteries (4-pack)                1       3.84  12/31/19 22:58   \n",
       "6   295671   USB-C Charging Cable                1      11.95  12/16/19 15:10   \n",
       "7   295672   USB-C Charging Cable                2      11.95  12/13/19 09:29   \n",
       "\n",
       "                            Purchase Address  \n",
       "0     136 Church St, New York City, NY 10001  \n",
       "1        562 2nd St, New York City, NY 10001  \n",
       "2       277 Main St, New York City, NY 10001  \n",
       "3        410 6th St, San Francisco, CA 94016  \n",
       "4              43 Hill St, Atlanta, GA 30301  \n",
       "5  200 Jefferson St, New York City, NY 10001  \n",
       "6            928 12th St, Portland, OR 97035  \n",
       "7           813 Hickory St, Dallas, TX 75001  "
      ]
     },
     "execution_count": 8,
     "metadata": {},
     "output_type": "execute_result"
    }
   ],
   "source": [
    "df.head(8)"
   ]
  },
  {
   "cell_type": "code",
   "execution_count": 9,
   "id": "a2489540-286c-4d35-8444-03cc14b5f20b",
   "metadata": {},
   "outputs": [
    {
     "data": {
      "text/html": [
       "<div>\n",
       "<style scoped>\n",
       "    .dataframe tbody tr th:only-of-type {\n",
       "        vertical-align: middle;\n",
       "    }\n",
       "\n",
       "    .dataframe tbody tr th {\n",
       "        vertical-align: top;\n",
       "    }\n",
       "\n",
       "    .dataframe thead th {\n",
       "        text-align: right;\n",
       "    }\n",
       "</style>\n",
       "<table border=\"1\" class=\"dataframe\">\n",
       "  <thead>\n",
       "    <tr style=\"text-align: right;\">\n",
       "      <th></th>\n",
       "      <th>Order ID</th>\n",
       "      <th>Product</th>\n",
       "      <th>Quantity Ordered</th>\n",
       "      <th>Price Each</th>\n",
       "      <th>Order Date</th>\n",
       "      <th>Purchase Address</th>\n",
       "    </tr>\n",
       "  </thead>\n",
       "  <tbody>\n",
       "    <tr>\n",
       "      <th>25112</th>\n",
       "      <td>319666</td>\n",
       "      <td>Lightning Charging Cable</td>\n",
       "      <td>1</td>\n",
       "      <td>14.95</td>\n",
       "      <td>12/11/19 20:58</td>\n",
       "      <td>14 Madison St, San Francisco, CA 94016</td>\n",
       "    </tr>\n",
       "    <tr>\n",
       "      <th>25113</th>\n",
       "      <td>319667</td>\n",
       "      <td>AA Batteries (4-pack)</td>\n",
       "      <td>2</td>\n",
       "      <td>3.84</td>\n",
       "      <td>12/01/19 12:01</td>\n",
       "      <td>549 Willow St, Los Angeles, CA 90001</td>\n",
       "    </tr>\n",
       "    <tr>\n",
       "      <th>25114</th>\n",
       "      <td>319668</td>\n",
       "      <td>Vareebadd Phone</td>\n",
       "      <td>1</td>\n",
       "      <td>400</td>\n",
       "      <td>12/09/19 06:43</td>\n",
       "      <td>273 Wilson St, Seattle, WA 98101</td>\n",
       "    </tr>\n",
       "    <tr>\n",
       "      <th>25115</th>\n",
       "      <td>319669</td>\n",
       "      <td>Wired Headphones</td>\n",
       "      <td>1</td>\n",
       "      <td>11.99</td>\n",
       "      <td>12/03/19 10:39</td>\n",
       "      <td>778 River St, Dallas, TX 75001</td>\n",
       "    </tr>\n",
       "    <tr>\n",
       "      <th>25116</th>\n",
       "      <td>319670</td>\n",
       "      <td>Bose SoundSport Headphones</td>\n",
       "      <td>1</td>\n",
       "      <td>99.99</td>\n",
       "      <td>12/21/19 21:45</td>\n",
       "      <td>747 Chestnut St, Los Angeles, CA 90001</td>\n",
       "    </tr>\n",
       "  </tbody>\n",
       "</table>\n",
       "</div>"
      ],
      "text/plain": [
       "      Order ID                     Product Quantity Ordered Price Each  \\\n",
       "25112   319666    Lightning Charging Cable                1      14.95   \n",
       "25113   319667       AA Batteries (4-pack)                2       3.84   \n",
       "25114   319668             Vareebadd Phone                1        400   \n",
       "25115   319669            Wired Headphones                1      11.99   \n",
       "25116   319670  Bose SoundSport Headphones                1      99.99   \n",
       "\n",
       "           Order Date                        Purchase Address  \n",
       "25112  12/11/19 20:58  14 Madison St, San Francisco, CA 94016  \n",
       "25113  12/01/19 12:01    549 Willow St, Los Angeles, CA 90001  \n",
       "25114  12/09/19 06:43        273 Wilson St, Seattle, WA 98101  \n",
       "25115  12/03/19 10:39          778 River St, Dallas, TX 75001  \n",
       "25116  12/21/19 21:45  747 Chestnut St, Los Angeles, CA 90001  "
      ]
     },
     "execution_count": 9,
     "metadata": {},
     "output_type": "execute_result"
    }
   ],
   "source": [
    "df.tail()"
   ]
  },
  {
   "cell_type": "code",
   "execution_count": 10,
   "id": "9db8dea6-c158-4464-a188-17cc701c65ea",
   "metadata": {},
   "outputs": [
    {
     "data": {
      "text/plain": [
       "Index(['Order ID', 'Product', 'Quantity Ordered', 'Price Each', 'Order Date',\n",
       "       'Purchase Address'],\n",
       "      dtype='object')"
      ]
     },
     "execution_count": 10,
     "metadata": {},
     "output_type": "execute_result"
    }
   ],
   "source": [
    "df.columns"
   ]
  },
  {
   "cell_type": "code",
   "execution_count": 11,
   "id": "a8db818d-2897-4e58-b295-36e90c632ab0",
   "metadata": {},
   "outputs": [
    {
     "data": {
      "text/plain": [
       "Order ID            object\n",
       "Product             object\n",
       "Quantity Ordered    object\n",
       "Price Each          object\n",
       "Order Date          object\n",
       "Purchase Address    object\n",
       "dtype: object"
      ]
     },
     "execution_count": 11,
     "metadata": {},
     "output_type": "execute_result"
    }
   ],
   "source": [
    "df.dtypes"
   ]
  },
  {
   "cell_type": "code",
   "execution_count": 13,
   "id": "19b38342-9495-42e5-ab62-41e7a999e4a2",
   "metadata": {},
   "outputs": [
    {
     "data": {
      "text/plain": [
       "(25117, 6)"
      ]
     },
     "execution_count": 13,
     "metadata": {},
     "output_type": "execute_result"
    }
   ],
   "source": [
    "df.shape"
   ]
  },
  {
   "cell_type": "code",
   "execution_count": 14,
   "id": "597a5644-41e7-4dda-8b79-886a21c61451",
   "metadata": {},
   "outputs": [
    {
     "name": "stdout",
     "output_type": "stream",
     "text": [
      "<class 'pandas.core.frame.DataFrame'>\n",
      "RangeIndex: 25117 entries, 0 to 25116\n",
      "Data columns (total 6 columns):\n",
      " #   Column            Non-Null Count  Dtype \n",
      "---  ------            --------------  ----- \n",
      " 0   Order ID          25037 non-null  object\n",
      " 1   Product           25037 non-null  object\n",
      " 2   Quantity Ordered  25037 non-null  object\n",
      " 3   Price Each        25037 non-null  object\n",
      " 4   Order Date        25037 non-null  object\n",
      " 5   Purchase Address  25037 non-null  object\n",
      "dtypes: object(6)\n",
      "memory usage: 1.1+ MB\n"
     ]
    }
   ],
   "source": [
    "df.info()"
   ]
  },
  {
   "cell_type": "code",
   "execution_count": 15,
   "id": "f5403f89-2065-4c51-89bb-f47427d58817",
   "metadata": {},
   "outputs": [
    {
     "data": {
      "text/plain": [
       "Order ID            80\n",
       "Product             80\n",
       "Quantity Ordered    80\n",
       "Price Each          80\n",
       "Order Date          80\n",
       "Purchase Address    80\n",
       "dtype: int64"
      ]
     },
     "execution_count": 15,
     "metadata": {},
     "output_type": "execute_result"
    }
   ],
   "source": []
  },
  {
   "cell_type": "code",
   "execution_count": 16,
   "id": "356e4a26-67d5-43e9-96d8-590ae6a75779",
   "metadata": {},
   "outputs": [
    {
     "data": {
      "text/plain": [
       "Order ID                                            295665\n",
       "Product                                 Macbook Pro Laptop\n",
       "Quantity Ordered                                         1\n",
       "Price Each                                            1700\n",
       "Order Date                                  12/30/19 00:01\n",
       "Purchase Address    136 Church St, New York City, NY 10001\n",
       "Name: 0, dtype: object"
      ]
     },
     "execution_count": 16,
     "metadata": {},
     "output_type": "execute_result"
    }
   ],
   "source": [
    "df.iloc[0]"
   ]
  },
  {
   "cell_type": "code",
   "execution_count": 17,
   "id": "85ef8e0d-e9df-414a-8214-121bc4385b9d",
   "metadata": {},
   "outputs": [
    {
     "data": {
      "text/plain": [
       "Order ID            80\n",
       "Product             80\n",
       "Quantity Ordered    80\n",
       "Price Each          80\n",
       "Order Date          80\n",
       "Purchase Address    80\n",
       "dtype: int64"
      ]
     },
     "execution_count": 17,
     "metadata": {},
     "output_type": "execute_result"
    }
   ],
   "source": [
    "df.isnull().sum()"
   ]
  },
  {
   "cell_type": "code",
   "execution_count": 19,
   "id": "b4d3504e-5466-4faa-a10b-b711d5faf473",
   "metadata": {},
   "outputs": [],
   "source": [
    "df=df.dropna()"
   ]
  },
  {
   "cell_type": "code",
   "execution_count": 20,
   "id": "f49f7402-41c9-4fd3-b8fa-75cc8c887647",
   "metadata": {},
   "outputs": [
    {
     "data": {
      "text/plain": [
       "Order ID            0\n",
       "Product             0\n",
       "Quantity Ordered    0\n",
       "Price Each          0\n",
       "Order Date          0\n",
       "Purchase Address    0\n",
       "dtype: int64"
      ]
     },
     "execution_count": 20,
     "metadata": {},
     "output_type": "execute_result"
    }
   ],
   "source": [
    "df.isnull().sum()"
   ]
  },
  {
   "cell_type": "code",
   "execution_count": 21,
   "id": "da636835-b1f1-4493-ab82-3fd27babe167",
   "metadata": {},
   "outputs": [
    {
     "data": {
      "text/html": [
       "<div>\n",
       "<style scoped>\n",
       "    .dataframe tbody tr th:only-of-type {\n",
       "        vertical-align: middle;\n",
       "    }\n",
       "\n",
       "    .dataframe tbody tr th {\n",
       "        vertical-align: top;\n",
       "    }\n",
       "\n",
       "    .dataframe thead th {\n",
       "        text-align: right;\n",
       "    }\n",
       "</style>\n",
       "<table border=\"1\" class=\"dataframe\">\n",
       "  <thead>\n",
       "    <tr style=\"text-align: right;\">\n",
       "      <th></th>\n",
       "      <th>Order ID</th>\n",
       "      <th>Product</th>\n",
       "      <th>Quantity Ordered</th>\n",
       "      <th>Price Each</th>\n",
       "      <th>Order Date</th>\n",
       "      <th>Purchase Address</th>\n",
       "    </tr>\n",
       "  </thead>\n",
       "  <tbody>\n",
       "    <tr>\n",
       "      <th>count</th>\n",
       "      <td>25037</td>\n",
       "      <td>25037</td>\n",
       "      <td>25037</td>\n",
       "      <td>25037</td>\n",
       "      <td>25037</td>\n",
       "      <td>25037</td>\n",
       "    </tr>\n",
       "    <tr>\n",
       "      <th>unique</th>\n",
       "      <td>24007</td>\n",
       "      <td>20</td>\n",
       "      <td>8</td>\n",
       "      <td>19</td>\n",
       "      <td>17306</td>\n",
       "      <td>23215</td>\n",
       "    </tr>\n",
       "    <tr>\n",
       "      <th>top</th>\n",
       "      <td>Order ID</td>\n",
       "      <td>USB-C Charging Cable</td>\n",
       "      <td>1</td>\n",
       "      <td>11.95</td>\n",
       "      <td>Order Date</td>\n",
       "      <td>Purchase Address</td>\n",
       "    </tr>\n",
       "    <tr>\n",
       "      <th>freq</th>\n",
       "      <td>48</td>\n",
       "      <td>2981</td>\n",
       "      <td>22641</td>\n",
       "      <td>2981</td>\n",
       "      <td>48</td>\n",
       "      <td>48</td>\n",
       "    </tr>\n",
       "  </tbody>\n",
       "</table>\n",
       "</div>"
      ],
      "text/plain": [
       "        Order ID               Product Quantity Ordered Price Each  \\\n",
       "count      25037                 25037            25037      25037   \n",
       "unique     24007                    20                8         19   \n",
       "top     Order ID  USB-C Charging Cable                1      11.95   \n",
       "freq          48                  2981            22641       2981   \n",
       "\n",
       "        Order Date  Purchase Address  \n",
       "count        25037             25037  \n",
       "unique       17306             23215  \n",
       "top     Order Date  Purchase Address  \n",
       "freq            48                48  "
      ]
     },
     "execution_count": 21,
     "metadata": {},
     "output_type": "execute_result"
    }
   ],
   "source": [
    "df.describe()"
   ]
  },
  {
   "cell_type": "code",
   "execution_count": 23,
   "id": "4eeced1d-b6ee-4139-8606-df868cc640b6",
   "metadata": {},
   "outputs": [
    {
     "data": {
      "text/plain": [
       "np.int64(87)"
      ]
     },
     "execution_count": 23,
     "metadata": {},
     "output_type": "execute_result"
    }
   ],
   "source": [
    "df.duplicated().sum()"
   ]
  },
  {
   "cell_type": "code",
   "execution_count": 25,
   "id": "76247b9b-252d-4ba3-b126-211bc94ca67b",
   "metadata": {},
   "outputs": [],
   "source": [
    "df=df.drop_duplicates()"
   ]
  },
  {
   "cell_type": "code",
   "execution_count": 26,
   "id": "8829cf72-ca1b-4afc-b4e1-971504d67055",
   "metadata": {},
   "outputs": [
    {
     "data": {
      "text/plain": [
       "np.int64(0)"
      ]
     },
     "execution_count": 26,
     "metadata": {},
     "output_type": "execute_result"
    }
   ],
   "source": [
    "df.duplicated().sum()"
   ]
  },
  {
   "cell_type": "code",
   "execution_count": null,
   "id": "9fa613c3-0492-415b-b9ef-faa27b4ddfd9",
   "metadata": {},
   "outputs": [],
   "source": [
    " "
   ]
  }
 ],
 "metadata": {
  "kernelspec": {
   "display_name": "Python 3 (ipykernel)",
   "language": "python",
   "name": "python3"
  },
  "language_info": {
   "codemirror_mode": {
    "name": "ipython",
    "version": 3
   },
   "file_extension": ".py",
   "mimetype": "text/x-python",
   "name": "python",
   "nbconvert_exporter": "python",
   "pygments_lexer": "ipython3",
   "version": "3.11.0"
  }
 },
 "nbformat": 4,
 "nbformat_minor": 5
}
