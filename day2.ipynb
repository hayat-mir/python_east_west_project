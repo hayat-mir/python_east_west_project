{
 "cells": [
  {
   "cell_type": "code",
   "execution_count": 1,
   "id": "237ab7ca-8709-4adc-acd8-d6071ed8f2d8",
   "metadata": {},
   "outputs": [],
   "source": [
    "a = 'Hello'\n",
    "b = 'World'\n",
    "#print(a + b)"
   ]
  },
  {
   "cell_type": "code",
   "execution_count": 2,
   "id": "2692ca85-ddf2-45bd-a374-8067546f7d2e",
   "metadata": {},
   "outputs": [],
   "source": [
    "#print('Hello','World')"
   ]
  },
  {
   "cell_type": "code",
   "execution_count": 1,
   "id": "c5386df6-6ac7-47a8-b51e-82adc43461f8",
   "metadata": {},
   "outputs": [
    {
     "name": "stdout",
     "output_type": "stream",
     "text": [
      "6 5\n"
     ]
    }
   ],
   "source": [
    "print(True + 5, False + 5)"
   ]
  },
  {
   "cell_type": "code",
   "execution_count": 4,
   "id": "7583be29-b749-4096-b274-167d127f733f",
   "metadata": {},
   "outputs": [
    {
     "name": "stdout",
     "output_type": "stream",
     "text": [
      "False\n",
      "True\n",
      "True\n"
     ]
    }
   ],
   "source": [
    "for i in range(3):\n",
    "    print(bool(i))\n"
   ]
  },
  {
   "cell_type": "code",
   "execution_count": 7,
   "id": "6dd0ac49-4c5f-48fd-ad4a-fd18c92a9f17",
   "metadata": {},
   "outputs": [
    {
     "name": "stdout",
     "output_type": "stream",
     "text": [
      "False branch\n"
     ]
    }
   ],
   "source": [
    "a = 0\n",
    "if a:\n",
    "    print(\"True branch\")\n",
    "else:\n",
    "    print(\"False branch\")\n"
   ]
  },
  {
   "cell_type": "code",
   "execution_count": 8,
   "id": "1437354d-9950-497f-b69b-84cdbe76b2ee",
   "metadata": {},
   "outputs": [
    {
     "name": "stdout",
     "output_type": "stream",
     "text": [
      "0\n",
      "1\n",
      "2\n",
      "3\n",
      "4\n",
      "5\n",
      "6\n",
      "7\n",
      "8\n",
      "9\n"
     ]
    }
   ],
   "source": [
    "for i in range(10):\n",
    "    print(i)"
   ]
  },
  {
   "cell_type": "code",
   "execution_count": 9,
   "id": "245ec91b-fadb-4ca1-a7f8-423fe3420b81",
   "metadata": {},
   "outputs": [
    {
     "name": "stdout",
     "output_type": "stream",
     "text": [
      "Pn\n"
     ]
    }
   ],
   "source": [
    "s = \"Python\"\n",
    "print(s[0] + s[-1])"
   ]
  },
  {
   "cell_type": "code",
   "execution_count": 10,
   "id": "8276ed90-8e8d-47f8-99ec-efbe1d76de31",
   "metadata": {},
   "outputs": [
    {
     "name": "stdout",
     "output_type": "stream",
     "text": [
      "apple\n"
     ]
    }
   ],
   "source": [
    "fruits = ['apple', 'banana', 'cherry']\n",
    "a, b, c = fruits\n",
    "print(a)"
   ]
  },
  {
   "cell_type": "code",
   "execution_count": 11,
   "id": "d8998706-48af-4c86-af97-970686e198bd",
   "metadata": {},
   "outputs": [
    {
     "data": {
      "text/plain": [
       "float"
      ]
     },
     "execution_count": 11,
     "metadata": {},
     "output_type": "execute_result"
    }
   ],
   "source": [
    "type(3 + 4.0)\n"
   ]
  },
  {
   "cell_type": "code",
   "execution_count": 16,
   "id": "d31b300d-800d-41cb-bca7-9a062b0095fd",
   "metadata": {},
   "outputs": [
    {
     "name": "stdout",
     "output_type": "stream",
     "text": [
      "2\n",
      "4\n",
      "8\n",
      "16\n",
      "32\n"
     ]
    }
   ],
   "source": [
    "#what will be the final output\n",
    "n = 1\n",
    "while n < 20:\n",
    "    n *= 2\n",
    "    print(n)"
   ]
  },
  {
   "cell_type": "code",
   "execution_count": 18,
   "id": "caf89458-7953-47c2-aaad-720ff5b803ca",
   "metadata": {},
   "outputs": [
    {
     "name": "stdout",
     "output_type": "stream",
     "text": [
      "Equal\n"
     ]
    }
   ],
   "source": [
    "x = 3.0\n",
    "if x == 3:\n",
    "    print(\"Equal\")\n",
    "else:\n",
    "    print(\"Not Equal\")"
   ]
  },
  {
   "cell_type": "code",
   "execution_count": 19,
   "id": "8abfcf14-0011-4391-aade-cd38109a2f83",
   "metadata": {},
   "outputs": [
    {
     "name": "stdout",
     "output_type": "stream",
     "text": [
      "No\n"
     ]
    }
   ],
   "source": [
    "s = \"hello\"\n",
    "if \"h\" in s and \"l\" not in s:\n",
    "    print(\"Yes\")\n",
    "else:\n",
    "    print(\"No\")\n"
   ]
  },
  {
   "cell_type": "code",
   "execution_count": 20,
   "id": "72cfca5a-7747-4b58-b59f-5e2d676b641e",
   "metadata": {},
   "outputs": [
    {
     "name": "stdout",
     "output_type": "stream",
     "text": [
      "Divisible by both\n"
     ]
    }
   ],
   "source": [
    "num = 15\n",
    "if num % 3 == 0:\n",
    "    if num % 5 == 0:\n",
    "        print(\"Divisible by both\")\n",
    "    else:\n",
    "        print(\"Only by 3\")\n",
    "else:\n",
    "    print(\"Not divisible\")\n"
   ]
  },
  {
   "cell_type": "code",
   "execution_count": 22,
   "id": "ba5f8cda-1507-44c7-b59e-5dee33b6e04b",
   "metadata": {},
   "outputs": [
    {
     "name": "stdout",
     "output_type": "stream",
     "text": [
      "Fail\n"
     ]
    }
   ],
   "source": [
    "x = True\n",
    "y = False\n",
    "if x and y:\n",
    "    print(\"Pass\")\n",
    "else:\n",
    "    print(\"Fail\")\n"
   ]
  },
  {
   "cell_type": "code",
   "execution_count": 23,
   "id": "46ca3964-dd21-4af3-9f9e-64c706ef2fba",
   "metadata": {},
   "outputs": [
    {
     "name": "stdout",
     "output_type": "stream",
     "text": [
      "2\n",
      "4\n",
      "6\n",
      "8\n"
     ]
    }
   ],
   "source": [
    "for i in range(1, 5):\n",
    "    print(i * 2)"
   ]
  },
  {
   "cell_type": "code",
   "execution_count": 24,
   "id": "afb731aa-feae-4d7b-8c11-38d2f92b68fd",
   "metadata": {},
   "outputs": [
    {
     "name": "stdout",
     "output_type": "stream",
     "text": [
      "10\n",
      "8\n",
      "6\n",
      "4\n"
     ]
    }
   ],
   "source": [
    "#how many times loop will run\n",
    "for i in range(10, 3, -2):\n",
    "    print(i)\n"
   ]
  },
  {
   "cell_type": "code",
   "execution_count": 25,
   "id": "ff42592e-393e-4531-97a3-5c4e09d2d616",
   "metadata": {},
   "outputs": [
    {
     "name": "stdout",
     "output_type": "stream",
     "text": [
      "1\n",
      "2\n",
      "2\n",
      "4\n"
     ]
    }
   ],
   "source": [
    "for i in range(1, 3):\n",
    "    for j in range(1, 3):\n",
    "        print(i *j)\n"
   ]
  },
  {
   "cell_type": "code",
   "execution_count": 26,
   "id": "155871c9-e9b0-4e10-ac01-0821effaf88e",
   "metadata": {},
   "outputs": [
    {
     "name": "stdout",
     "output_type": "stream",
     "text": [
      "2 3 4 4 6 8 "
     ]
    }
   ],
   "source": [
    "for i in range(1, 3):\n",
    "    for j in range(2, 5):\n",
    "        print(i * j, end=\" \")\n"
   ]
  },
  {
   "cell_type": "code",
   "execution_count": 33,
   "id": "5ed449de-f00c-42b7-ab2e-c1bb86ebb26b",
   "metadata": {},
   "outputs": [],
   "source": [
    "n = 0\n",
    "while n < 10:\n",
    "\n",
    "    if n == 5:\n",
    "        break\n",
    "        print(n)\n",
    "    n += 1\n"
   ]
  },
  {
   "cell_type": "code",
   "execution_count": 34,
   "id": "0859cc35-727a-4031-8b7e-d4d9800e64e5",
   "metadata": {},
   "outputs": [
    {
     "name": "stdout",
     "output_type": "stream",
     "text": [
      "0\n",
      "2\n",
      "4\n",
      "6\n",
      "8\n"
     ]
    }
   ],
   "source": [
    "n = 0\n",
    "while n < 10:\n",
    "    if n == 5:\n",
    "        break\n",
    "    print(n)\n",
    "    n += 2\n"
   ]
  },
  {
   "cell_type": "code",
   "execution_count": 35,
   "id": "ff148ccb-d206-4d71-a9b6-2e6e4466a849",
   "metadata": {},
   "outputs": [
    {
     "name": "stdout",
     "output_type": "stream",
     "text": [
      "1 3 5 "
     ]
    }
   ],
   "source": [
    "n = 0\n",
    "while n < 6:\n",
    "    n += 1\n",
    "    if n % 2 == 0:\n",
    "        continue\n",
    "    print(n, end=\" \")\n"
   ]
  },
  {
   "cell_type": "code",
   "execution_count": 36,
   "id": "5b2f034a-4b40-4ecc-85d6-c6ccb0cd75af",
   "metadata": {},
   "outputs": [
    {
     "name": "stdout",
     "output_type": "stream",
     "text": [
      "0\n",
      "1\n",
      "2\n"
     ]
    }
   ],
   "source": [
    "for i in range(5):\n",
    "    if i == 3:\n",
    "        break  # Stop the loop when i equals 3\n",
    "    print(i)\n"
   ]
  },
  {
   "cell_type": "code",
   "execution_count": null,
   "id": "f8c12dea-f792-43b0-8754-4b13b7e6761e",
   "metadata": {
    "collapsed": true,
    "jupyter": {
     "outputs_hidden": true
    }
   },
   "outputs": [],
   "source": []
  },
  {
   "cell_type": "code",
   "execution_count": null,
   "id": "70f4fea4-e853-4200-8ad8-4e5bab5a239c",
   "metadata": {
    "collapsed": true,
    "jupyter": {
     "outputs_hidden": true
    }
   },
   "outputs": [],
   "source": []
  },
  {
   "cell_type": "code",
   "execution_count": null,
   "id": "c0931200-c307-45bd-8449-0b10f803783f",
   "metadata": {},
   "outputs": [],
   "source": []
  },
  {
   "cell_type": "code",
   "execution_count": null,
   "id": "e6fe0979-72b6-4958-aa84-b36a8085729f",
   "metadata": {},
   "outputs": [],
   "source": []
  },
  {
   "cell_type": "code",
   "execution_count": null,
   "id": "98528ad3-4175-42f2-9660-821029277874",
   "metadata": {},
   "outputs": [],
   "source": []
  },
  {
   "cell_type": "code",
   "execution_count": null,
   "id": "d52c46c5-24af-4624-bb02-cb67bca509d1",
   "metadata": {},
   "outputs": [],
   "source": []
  },
  {
   "cell_type": "code",
   "execution_count": null,
   "id": "11b2896b-0654-4b22-b7aa-2afe8201a193",
   "metadata": {},
   "outputs": [],
   "source": []
  },
  {
   "cell_type": "code",
   "execution_count": null,
   "id": "887bb18a-5a60-426a-9feb-1266dad1c78f",
   "metadata": {},
   "outputs": [],
   "source": []
  }
 ],
 "metadata": {
  "kernelspec": {
   "display_name": "Python 3 (ipykernel)",
   "language": "python",
   "name": "python3"
  },
  "language_info": {
   "codemirror_mode": {
    "name": "ipython",
    "version": 3
   },
   "file_extension": ".py",
   "mimetype": "text/x-python",
   "name": "python",
   "nbconvert_exporter": "python",
   "pygments_lexer": "ipython3",
   "version": "3.11.0"
  }
 },
 "nbformat": 4,
 "nbformat_minor": 5
}
